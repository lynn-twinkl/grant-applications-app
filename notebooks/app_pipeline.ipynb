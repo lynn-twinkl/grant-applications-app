{
 "cells": [
  {
   "cell_type": "markdown",
   "id": "aa8053eb-bad5-45cf-b762-5426dfaf3281",
   "metadata": {},
   "source": [
    "# 1. Configuration"
   ]
  },
  {
   "cell_type": "code",
   "execution_count": 81,
   "id": "489b293a-e27a-4b66-b16f-13f0b9964566",
   "metadata": {},
   "outputs": [],
   "source": [
    "import pandas as pd\n",
    "import altair as alt\n",
    "import joblib\n",
    "from io import BytesIO\n",
    "import os\n",
    "import sys\n",
    "\n",
    "# Add project root (one level up from notebooks/) to sys.path\n",
    "sys.path.insert(0, os.path.abspath(os.path.join(os.getcwd(), '..')))\n",
    "\n",
    "from dotenv import load_dotenv\n",
    "load_dotenv()\n",
    "\n",
    "OPENAI_API_KEY = os.getenv('OPENAI_API_KEY')\n",
    "\n",
    "# ---- FUNCTIONS ----\n",
    "\n",
    "from src.extract_usage import extract_usage\n",
    "from src.necessity_index import compute_necessity, index_scaler, qcut_labels\n",
    "from src.column_detection import detect_freeform_col\n",
    "from src.shortlist import shortlist_applications\n",
    "from src.twinkl_originals import find_book_candidates\n",
    "from src.preprocess_text import normalise_text \n",
    "from typing import Tuple\n",
    "\n",
    "pd.set_option('display.max_colwidth', 500)"
   ]
  },
  {
   "cell_type": "code",
   "execution_count": 2,
   "id": "bf6bb17e-7cf7-4864-96d2-0ceb864ff1e8",
   "metadata": {},
   "outputs": [],
   "source": [
    "def load_heartfelt_predictor():\n",
    "    # Compute absolute path from notebook location\n",
    "    project_root = os.path.abspath(os.path.join(os.getcwd(), '..'))\n",
    "    model_path = os.path.join(project_root, \"src\", \"models\", \"heartfelt_pipeline.joblib\")\n",
    "    return joblib.load(model_path)\n"
   ]
  },
  {
   "cell_type": "code",
   "execution_count": 3,
   "id": "28225da1-0757-4289-a8a6-79e2c5d7e288",
   "metadata": {},
   "outputs": [],
   "source": [
    "def load_and_process(raw_csv) -> Tuple[pd.DataFrame, str]:\n",
    "    \"\"\"\n",
    "    Load CSV from raw bytes, detect freeform column, compute necessity scores,\n",
    "    and extract usage items. Returns processed DataFrame and freeform column name.\n",
    "    \"\"\"\n",
    "    # Read Uploaded Data \n",
    "    df_orig = pd.read_csv(raw_csv)\n",
    "\n",
    "    # Detect freeform column\n",
    "    freeform_col = detect_freeform_col(df_orig)\n",
    "\n",
    "    df_orig = df_orig[df_orig[freeform_col].notna()]\n",
    "\n",
    "    #Word Count\n",
    "    df_orig['word_count'] = df_orig[freeform_col].fillna('').str.split().str.len()\n",
    "\n",
    "    # Compute Necessity Scores\n",
    "    scored = df_orig.join(df_orig[freeform_col].apply(compute_necessity))\n",
    "    scored['necessity_index'] = index_scaler(scored['necessity_index'].values)\n",
    "    scored['priority'] = qcut_labels(scored['necessity_index'])\n",
    "\n",
    "    # Find Twinkl Originals Candidates\n",
    "    scored['book_candidates'] = find_book_candidates(scored, freeform_col)\n",
    "\n",
    "    # Label Heartfelt Applications\n",
    "    scored['clean_text'] = scored[freeform_col].map(normalise_text)\n",
    "    model = load_heartfelt_predictor()\n",
    "    scored['is_heartfelt'] = model.predict(scored['clean_text'].astype(str))\n",
    "\n",
    "\n",
    "    \n",
    "    # Usage Extraction\n",
    "    #docs = df_orig[freeform_col].to_list()  <---- Disabled Ai-powered extraction for testing\n",
    "    #scored['Usage'] = extract_usage(docs)\n",
    "\n",
    "    return scored, freeform_col\n",
    "\n"
   ]
  },
  {
   "cell_type": "code",
   "execution_count": 4,
   "id": "3989b41b-bf81-4436-98fa-28a191871546",
   "metadata": {},
   "outputs": [
    {
     "name": "stderr",
     "output_type": "stream",
     "text": [
      "/Users/lynn/Documents/Twinkl/grant-applications-app/src/twinkl_originals.py:15: UserWarning: This pattern is interpreted as a regular expression, and has match groups. To actually get the groups, use str.extract.\n",
      "  is_primary = series.str.contains(pattern_level, case=False, na=False)\n"
     ]
    }
   ],
   "source": [
    "df, freeform_col = load_and_process('data/feb-march-data.csv')"
   ]
  },
  {
   "cell_type": "code",
   "execution_count": 5,
   "id": "22ecba7b-3a53-4fa7-ba31-28ef9af14185",
   "metadata": {},
   "outputs": [
    {
     "data": {
      "text/plain": [
       "Index(['Id', 'Date/Time Requested', 'Giveaway Title', 'Customer Name',\n",
       "       'Email Address', 'School Name', 'Postal Address', 'Address Line 2',\n",
       "       'Address City', 'Postcode', 'Additional Info', 'Unnamed: 11',\n",
       "       'word_count', 'necessity_index', 'urgency_score', 'severity_score',\n",
       "       'vulnerability_score', 'priority', 'book_candidates', 'clean_text',\n",
       "       'is_heartfelt'],\n",
       "      dtype='object')"
      ]
     },
     "execution_count": 5,
     "metadata": {},
     "output_type": "execute_result"
    }
   ],
   "source": [
    "df.columns"
   ]
  },
  {
   "cell_type": "code",
   "execution_count": 6,
   "id": "aa3aee7b-eab7-4e42-ba8c-addd9847f146",
   "metadata": {},
   "outputs": [
    {
     "data": {
      "text/html": [
       "<div>\n",
       "<style scoped>\n",
       "    .dataframe tbody tr th:only-of-type {\n",
       "        vertical-align: middle;\n",
       "    }\n",
       "\n",
       "    .dataframe tbody tr th {\n",
       "        vertical-align: top;\n",
       "    }\n",
       "\n",
       "    .dataframe thead th {\n",
       "        text-align: right;\n",
       "    }\n",
       "</style>\n",
       "<table border=\"1\" class=\"dataframe\">\n",
       "  <thead>\n",
       "    <tr style=\"text-align: right;\">\n",
       "      <th></th>\n",
       "      <th>Additional Info</th>\n",
       "      <th>necessity_index</th>\n",
       "    </tr>\n",
       "  </thead>\n",
       "  <tbody>\n",
       "    <tr>\n",
       "      <th>0</th>\n",
       "      <td>I would love to use it to spread the love of reading for pleasure by being about to provide an outdoor library for all pupils to be able to enjoy at all times of the day but especially during their break times. Having continual accept to good quality book to be read at least is the key to developing a love to reading that could last a life time.</td>\n",
       "      <td>0.25000</td>\n",
       "    </tr>\n",
       "    <tr>\n",
       "      <th>1</th>\n",
       "      <td>We would like to introduce early years yoga and mindfulness classes to the children using interactive storytelling adventures fused with yoga postures. We would like to purchase a range of props to bring more fun and magic to the classes and this grant would support this</td>\n",
       "      <td>0.06250</td>\n",
       "    </tr>\n",
       "    <tr>\n",
       "      <th>2</th>\n",
       "      <td>Â£500 would enable us to set up a small sensory room for the teenagers we work with. They are out of school due to their mental health but those who are well enough to leave their homes are starting to come to our community house for 1:1 academic or life skills sessions. We've furnished it with donations from Facebook groups so it looks like a home but the small room that has sensory room potential needs beanbags, lighting and sensory equipment so it can be used.</td>\n",
       "      <td>0.09375</td>\n",
       "    </tr>\n",
       "  </tbody>\n",
       "</table>\n",
       "</div>"
      ],
      "text/plain": [
       "                                                                                                                                                                                                                                                                                                                                                                                                                                                                       Additional Info  \\\n",
       "0                                                                                                                          I would love to use it to spread the love of reading for pleasure by being about to provide an outdoor library for all pupils to be able to enjoy at all times of the day but especially during their break times. Having continual accept to good quality book to be read at least is the key to developing a love to reading that could last a life time.   \n",
       "1                                                                                                                                                                                                      We would like to introduce early years yoga and mindfulness classes to the children using interactive storytelling adventures fused with yoga postures. We would like to purchase a range of props to bring more fun and magic to the classes and this grant would support this   \n",
       "2  Â£500 would enable us to set up a small sensory room for the teenagers we work with. They are out of school due to their mental health but those who are well enough to leave their homes are starting to come to our community house for 1:1 academic or life skills sessions. We've furnished it with donations from Facebook groups so it looks like a home but the small room that has sensory room potential needs beanbags, lighting and sensory equipment so it can be used.   \n",
       "\n",
       "   necessity_index  \n",
       "0          0.25000  \n",
       "1          0.06250  \n",
       "2          0.09375  "
      ]
     },
     "execution_count": 6,
     "metadata": {},
     "output_type": "execute_result"
    }
   ],
   "source": [
    "df[[freeform_col, 'necessity_index']].head(3)"
   ]
  },
  {
   "cell_type": "markdown",
   "id": "2284bc6a-9641-47ad-8fdd-b188e6ae5021",
   "metadata": {},
   "source": [
    "# 2. Topic Modeling Testing"
   ]
  },
  {
   "cell_type": "markdown",
   "id": "c53217df-62b6-429c-ae0d-08dea582ed88",
   "metadata": {},
   "source": [
    "## 2.1 Configuration"
   ]
  },
  {
   "cell_type": "code",
   "execution_count": 14,
   "id": "5c54b4dd-46ec-4bba-9531-18ae03e8af33",
   "metadata": {},
   "outputs": [
    {
     "name": "stdout",
     "output_type": "stream",
     "text": [
      "Using device: mps\n"
     ]
    }
   ],
   "source": [
    "import importlib\n",
    "import src.models.topicModeling_contentRequests as tmc\n",
    "\n",
    "importlib.reload(tmc)\n",
    "\n",
    "# Use functions like this:\n",
    "embedding_model = tmc.load_embedding_model('all-MiniLM-L12-v2')"
   ]
  },
  {
   "cell_type": "code",
   "execution_count": 15,
   "id": "e0be5874-f2f3-41ab-9ccf-9be3a7a7559f",
   "metadata": {},
   "outputs": [],
   "source": [
    "import spacy\n",
    "from spacy.cli import download\n",
    "import importlib.util\n",
    "\n",
    "def load_spacy_model(model_name=\"en_core_web_md\"):\n",
    "    if importlib.util.find_spec(model_name) is None:\n",
    "        print(f\"Model '{model_name}' not found. Downloading now...\")\n",
    "        download(model_name)\n",
    "    return spacy.load(model_name)\n"
   ]
  },
  {
   "cell_type": "code",
   "execution_count": 16,
   "id": "3a9ba097-546f-4ee6-89b0-bcf2d6ffdb4e",
   "metadata": {},
   "outputs": [],
   "source": [
    "nlp = load_spacy_model(model_name='en_core_web_md')"
   ]
  },
  {
   "cell_type": "markdown",
   "id": "ac5b0b3d-6375-4e41-af15-ac75c71c9a73",
   "metadata": {},
   "source": [
    "## 2.2 Preprocessing"
   ]
  },
  {
   "cell_type": "code",
   "execution_count": 17,
   "id": "ac588c90-1daf-4b9b-8ab7-efd5fe358c53",
   "metadata": {},
   "outputs": [],
   "source": [
    "def spacy_sent_tokenize(text):\n",
    "    doc = nlp(text)\n",
    "    sentences = [sent.text.strip() for sent in doc.sents]\n",
    "    return sentences"
   ]
  },
  {
   "cell_type": "code",
   "execution_count": 18,
   "id": "a79358ea-5d0c-4ee6-be7e-88c0eeea1f0c",
   "metadata": {},
   "outputs": [],
   "source": [
    "sentences = []\n",
    "mapping = []\n",
    "\n",
    "for idx, response in df[freeform_col].dropna().items():\n",
    "    for sentence in spacy_sent_tokenize(response):\n",
    "        sentences.append(sentence)\n",
    "        mapping.append(idx)"
   ]
  },
  {
   "cell_type": "code",
   "execution_count": 19,
   "id": "ed93e33a-bf63-411e-ba4d-2b01d91c6b10",
   "metadata": {},
   "outputs": [
    {
     "name": "stdout",
     "output_type": "stream",
     "text": [
      "Total sentences: 3370\n",
      "Total mappings: 3370\n"
     ]
    }
   ],
   "source": [
    "print(f\"Total sentences: {len(sentences)}\")\n",
    "print(f\"Total mappings: {len(mapping)}\")"
   ]
  },
  {
   "cell_type": "code",
   "execution_count": 23,
   "id": "7a74aeb4-24f3-458b-abd4-51b6293e8946",
   "metadata": {},
   "outputs": [
    {
     "name": "stderr",
     "output_type": "stream",
     "text": [
      "Encoding Batches: 100%|████████████████████████████████████████████| 169/169 [00:07<00:00, 21.91it/s]\n"
     ]
    }
   ],
   "source": [
    "embeddings = tmc.encode_content_documents(embedding_model, sentences)"
   ]
  },
  {
   "cell_type": "markdown",
   "id": "60b4f689-70f4-4b7f-8118-9e5223808268",
   "metadata": {},
   "source": [
    "## 2.3 Topic Modeling and Labeling"
   ]
  },
  {
   "cell_type": "code",
   "execution_count": 24,
   "id": "2c83e408-785d-45ac-9522-386b091ac6f3",
   "metadata": {},
   "outputs": [],
   "source": [
    "from umap import UMAP\n",
    "from hdbscan import HDBSCAN\n",
    "\n",
    "umap_model = UMAP(n_neighbors=5, n_components=5, min_dist=0.0, metric='cosine', random_state=42)\n",
    "hdbscan_model = HDBSCAN(min_cluster_size=10, metric='euclidean', cluster_selection_method='eom', prediction_data=True)"
   ]
  },
  {
   "cell_type": "code",
   "execution_count": 76,
   "id": "690fbbcf-a75e-4dd3-9dcf-8c35e4341592",
   "metadata": {},
   "outputs": [
    {
     "name": "stderr",
     "output_type": "stream",
     "text": [
      "2025-05-23 12:44:58,162 - BERTopic - Dimensionality - Fitting the dimensionality reduction algorithm\n",
      "2025-05-23 12:45:03,983 - BERTopic - Dimensionality - Completed ✓\n",
      "2025-05-23 12:45:03,983 - BERTopic - Cluster - Start clustering the reduced embeddings\n",
      "2025-05-23 12:45:04,031 - BERTopic - Cluster - Completed ✓\n",
      "2025-05-23 12:45:04,032 - BERTopic - Representation - Extracting topics using c-TF-IDF for topic reduction.\n",
      "2025-05-23 12:45:04,098 - BERTopic - Representation - Completed ✓\n",
      "2025-05-23 12:45:04,099 - BERTopic - Topic reduction - Reducing number of topics\n",
      "2025-05-23 12:45:04,104 - BERTopic - Representation - Fine-tuning topics using representation models.\n",
      "2025-05-23 12:45:05,230 - BERTopic - Representation - Completed ✓\n",
      "2025-05-23 12:45:05,231 - BERTopic - Topic reduction - Reduced number of topics from 72 to 33\n"
     ]
    }
   ],
   "source": [
    "from bertopic import BERTopic\n",
    "from bertopic.representation import KeyBERTInspired, MaximalMarginalRelevance, PartOfSpeech, OpenAI\n",
    "import openai\n",
    "from sklearn.feature_extraction.text import CountVectorizer, TfidfVectorizer\n",
    "\n",
    "stopwords = list(nlp.Defaults.stop_words)\n",
    "\n",
    "\n",
    "custom_stopwords = [\n",
    "    'thank you', 'thankyou', 'thanks', 'thank'\n",
    "    'children', 'child', 'students',\n",
    "    'twinkl',\n",
    "    'funding'\n",
    "    \n",
    "]\n",
    "\n",
    "stopwords.extend(custom_stopwords)\n",
    "\n",
    "vectorizer_model = CountVectorizer(stop_words=stopwords, ngram_range=(1,2))\n",
    "\n",
    "\n",
    "topic_model = BERTopic(\n",
    "    verbose=True,\n",
    "    umap_model=umap_model,\n",
    "    representation_model=KeyBERTInspired(),\n",
    "    vectorizer_model=vectorizer_model,\n",
    "    hdbscan_model=hdbscan_model,\n",
    "    embedding_model=embedding_model,\n",
    "    nr_topics='auto'\n",
    ")\n",
    "topics, probs = topic_model.fit_transform(sentences, embeddings)"
   ]
  },
  {
   "cell_type": "code",
   "execution_count": 77,
   "id": "8b4fe78a-684b-47f6-8162-c186dafc61b3",
   "metadata": {
    "scrolled": true
   },
   "outputs": [
    {
     "data": {
      "text/html": [
       "<div>\n",
       "<style scoped>\n",
       "    .dataframe tbody tr th:only-of-type {\n",
       "        vertical-align: middle;\n",
       "    }\n",
       "\n",
       "    .dataframe tbody tr th {\n",
       "        vertical-align: top;\n",
       "    }\n",
       "\n",
       "    .dataframe thead th {\n",
       "        text-align: right;\n",
       "    }\n",
       "</style>\n",
       "<table border=\"1\" class=\"dataframe\">\n",
       "  <thead>\n",
       "    <tr style=\"text-align: right;\">\n",
       "      <th></th>\n",
       "      <th>Topic</th>\n",
       "      <th>Count</th>\n",
       "      <th>Name</th>\n",
       "      <th>Representation</th>\n",
       "      <th>Representative_Docs</th>\n",
       "    </tr>\n",
       "  </thead>\n",
       "  <tbody>\n",
       "    <tr>\n",
       "      <th>0</th>\n",
       "      <td>-1</td>\n",
       "      <td>1279</td>\n",
       "      <td>-1_buy resources_support children_resources_educational</td>\n",
       "      <td>[buy resources, support children, resources, educational, develop, supplies, education, development, funds, learners]</td>\n",
       "      <td>[We would use this money to buy resources that help develop the children's literacy and numeracy skills, especially in our outdoor environment., I would like to buy equipment and resources to help develop theses skills and help to support these children to develop in order for them to thrive in the future., Buy resources to support learning]</td>\n",
       "    </tr>\n",
       "    <tr>\n",
       "      <th>1</th>\n",
       "      <td>0</td>\n",
       "      <td>1271</td>\n",
       "      <td>0_support children_money_funds_use money</td>\n",
       "      <td>[support children, money, funds, use money, educational, benefit, money buy, education, develop, children]</td>\n",
       "      <td>[We would use this money to buy sensory equipment for our Nurture provision., We would use any money to support our children in developing their outdoor space., We have a high number of pupils in foundation phase with additional sensory needs, we would use the money to get resources to support these pupils]</td>\n",
       "    </tr>\n",
       "    <tr>\n",
       "      <th>2</th>\n",
       "      <td>1</td>\n",
       "      <td>153</td>\n",
       "      <td>1_sensory garden_garden children_garden_gardening</td>\n",
       "      <td>[sensory garden, garden children, garden, gardening, garden school, making sensory, gardening equipment, gardening tools, create sensory, planting]</td>\n",
       "      <td>[Our Japanese garden needs transforming into a sensory garden for our children with SEN., We would very much like to make a sensory garden for the children to enjoy!, We would love some plants to create a sensory garden for the under 2's.]</td>\n",
       "    </tr>\n",
       "    <tr>\n",
       "      <th>3</th>\n",
       "      <td>2</td>\n",
       "      <td>54</td>\n",
       "      <td>2_charity preschool_preschool_nursery_new nursery</td>\n",
       "      <td>[charity preschool, preschool, nursery, new nursery, nursery setting, run preschool, reception nursery, infant school, nursery september, small charity]</td>\n",
       "      <td>[Our charity preschool, proudly serving the community for over 40 years, is dedicated to providing a safe, nurturing, and inspiring environment for young children to learn, grow, and thrive., We are a small charity run community nursery in Elsecar, Barnsley., We are a small charity run preschool in a small village in Somerset, we only have 17 children on the register (which is quite busy for us!)]</td>\n",
       "    </tr>\n",
       "    <tr>\n",
       "      <th>4</th>\n",
       "      <td>3</td>\n",
       "      <td>53</td>\n",
       "      <td>3_science develop_making science_future scientists_scientists</td>\n",
       "      <td>[science develop, making science, future scientists, scientists, scientists ensure, investigations encourage, scientific, new science, science, practical science]</td>\n",
       "      <td>[This funding would bring science to life fostering curiosity, creativity and problem solving skills through real world nature based learning., Your funding would ensure all our pupils, regardless of background, can experience the excitement of real-world science and develop a lifelong love for STEM with some extra funding., Your funding would ensure all our pupils, regardless of background, can experience the excitement of real-world science and develop a lifelong love for STEM with some ex...</td>\n",
       "    </tr>\n",
       "    <tr>\n",
       "      <th>5</th>\n",
       "      <td>4</td>\n",
       "      <td>43</td>\n",
       "      <td>4_pencils equipment_crafts_art supplies_pencils craft</td>\n",
       "      <td>[pencils equipment, crafts, art supplies, pencils craft, supplies, glue sticks, pencils, pens pencils, craft materials, notebooks pencils]</td>\n",
       "      <td>[Then with any left over money I would buy basic supplies like glue sticks, paper, coloured paper, pens and pencils, as money is very tight!, Aswell as stationery like glue sticks, pens, pencils and colouring pencils\\nAlso equipment to help to support SEND children with motor skills!, Aswell as stationery like glue sticks, pens, pencils and colouring pencils\\nAlso equipment to help to support SEND children with motor skills!]</td>\n",
       "    </tr>\n",
       "    <tr>\n",
       "      <th>6</th>\n",
       "      <td>5</td>\n",
       "      <td>32</td>\n",
       "      <td>5_money gratefully_receive gratefully_money greatly_money monumental</td>\n",
       "      <td>[money gratefully, receive gratefully, money greatly, money monumental, money receive, priorities money, opportunity money, years fund, delighted obtain, impact funds]</td>\n",
       "      <td>[Any money we receive will be very gratefully received., The money would be so gratefully received and have a big impact., We would dearly love to update our history artefacts and our globes and atlases to help enrich our history and geography lessons.]</td>\n",
       "    </tr>\n",
       "    <tr>\n",
       "      <th>7</th>\n",
       "      <td>6</td>\n",
       "      <td>32</td>\n",
       "      <td>6_children access_area children_lack outside_access outdoors</td>\n",
       "      <td>[children access, area children, lack outside, access outdoors, access outside, children live, homes area, parents park, outdoors, home lack]</td>\n",
       "      <td>[Most of our children live in flats, often in cramped conditions and no access to the outdoors., Two thirds of our pre-school children live in flats with little or no access to an outside play area., We have a lot of children in our cohort who don't have access to an outside space at home]</td>\n",
       "    </tr>\n",
       "    <tr>\n",
       "      <th>8</th>\n",
       "      <td>7</td>\n",
       "      <td>31</td>\n",
       "      <td>7_learning twinklâ_write twinklâ_twinklâ_headteachers children</td>\n",
       "      <td>[learning twinklâ, write twinklâ, twinklâ, headteachers children, headteachers, partner teacher, webs educational, home educators, teaching life, help children]</td>\n",
       "      <td>[We would love to purchase some headphones with an attached microphone to allow them to use dictate to text, meaning their ideas can be shared without the fear or block of needing to write them down., Dear Team Twinkl,\\nThe Disraeli School in High Wycombe: a thriving 3 form primary school with brilliant, very dedicated staff and inspiring co-Headteachers., Both myself and my year group partner teacher are absolutely loving the Twinkl Original books for our reading sessions as they compliment...</td>\n",
       "    </tr>\n",
       "    <tr>\n",
       "      <th>9</th>\n",
       "      <td>8</td>\n",
       "      <td>28</td>\n",
       "      <td>8_purchase books_outdoor library_storage books_outdoor reading</td>\n",
       "      <td>[purchase books, outdoor library, storage books, outdoor reading, library children, books, book, library stock, engaging books, library]</td>\n",
       "      <td>[This would be used to develop our reading areas with an outdoor reading shed in eyfs - we invite parents to share a book before school and would like to purchase beanbags, crates and punting to enhance this area., I would like to create an outdoor reading area for my SEN school so the money would used to provide suitable weather proof book storage and books., If our school won Â£500, it would be split so that we could use Â£250 towards new books and items for our new reading retreat, and th...</td>\n",
       "    </tr>\n",
       "    <tr>\n",
       "      <th>10</th>\n",
       "      <td>9</td>\n",
       "      <td>28</td>\n",
       "      <td>9_thank consideration_grateful consideration_consideration thank_thank considering</td>\n",
       "      <td>[thank consideration, grateful consideration, consideration thank, thank considering, consideration appreciate, appreciate considering, considering thank, consideration, considered thank, impact thank]</td>\n",
       "      <td>[Thank you for your consideration., Thank you for your consideration., Thank you for your consideration.]</td>\n",
       "    </tr>\n",
       "    <tr>\n",
       "      <th>11</th>\n",
       "      <td>10</td>\n",
       "      <td>27</td>\n",
       "      <td>10_maths resources_maths lessons_buy maths_math equipment</td>\n",
       "      <td>[maths resources, maths lessons, buy maths, math equipment, use maths, maths practical, number teaching, need resources, maths lesson, resources]</td>\n",
       "      <td>[We are looking to buy more Maths resources for EYFS, KS1 and KS2, including books with stories in maths, I would also love to buy more maths resources for counting and number recognition to be able to develop the childrenâ€™s understanding of maths and enabling them to become school ready., We would like the money for hands on Maths resources - 2d shapes and 3d shapes for ks1 and ks2 to use in Maths lessons and weighing scales for use in Maths across the school.]</td>\n",
       "    </tr>\n",
       "    <tr>\n",
       "      <th>12</th>\n",
       "      <td>11</td>\n",
       "      <td>27</td>\n",
       "      <td>11_children laptops_school computing_use laptops_children learning</td>\n",
       "      <td>[children laptops, school computing, use laptops, children learning, new laptops, computing skills, laptops, laptops old, school tablet, little technology]</td>\n",
       "      <td>[We have very little technology to use with our SEN children and desperately need interactive resources where the children can learn to type, voice record and photograph evidence of their learning., We need to upgrade 35 children's laptops in September as our current laptops won't meet a software update., Working laptops for children to learn the basic Computing skills in KS1 curriculum.]</td>\n",
       "    </tr>\n",
       "    <tr>\n",
       "      <th>13</th>\n",
       "      <td>12</td>\n",
       "      <td>26</td>\n",
       "      <td>12_outdoor eyfs_outdoors eyfs_outdoor provision_eyfs outside</td>\n",
       "      <td>[outdoor eyfs, outdoors eyfs, outdoor provision, eyfs outside, develop outdoor, eyfs area, outdoor learning, improve eyfs, learning eyfs, outdoor area]</td>\n",
       "      <td>[We are currently trying to revamp our small EYFS outside area, to encourage outdoor learning and foster a love of the outdoors in our children., I have recently moved to EYFS and as a team, we are trying to develop our EYFS classrooms., Our EYFS team and I have been trying to develop building areas, sensory kitchens, source resources for those areas and outdoor water play and small world areas.]</td>\n",
       "    </tr>\n",
       "    <tr>\n",
       "      <th>14</th>\n",
       "      <td>13</td>\n",
       "      <td>26</td>\n",
       "      <td>13_healthy food_learn nutrition_learn food_lessons healthy</td>\n",
       "      <td>[healthy food, learn nutrition, learn food, lessons healthy, healthier food, learn cuisines, nutrition health, good nutrition, healthy eating, cooking]</td>\n",
       "      <td>[Healthy Eating: Students learn about nutrition and the importance of balanced diets, encouraging healthier food choices., As well as teaching an important life skill we aim to instill a love and joy for good healthy food and help the children to understand the importance of good nutrition., Healthy eating project - I would love to be able to cook with the children in our school to encourage healthy eating and a healthy attitude towards food.]</td>\n",
       "    </tr>\n",
       "    <tr>\n",
       "      <th>15</th>\n",
       "      <td>14</td>\n",
       "      <td>21</td>\n",
       "      <td>14_ipads technology_ipads provide_helpful ipads_new ipads</td>\n",
       "      <td>[ipads technology, ipads provide, helpful ipads, new ipads, ipads laptops, ipads, ipads suitable, 10 ipads, laptop ipad, working ipads]</td>\n",
       "      <td>[Also tech gadgets like a portable laptop for me to do my Phonics Lead work, and a small reasonable user friendly projector for Power Point presentations for example, Twinkl Phonics, special weeks and days., Our current one is old and the charging ports don't all work meaning we have to charge 10 ipads with 4 working ports., We will be raising money to update our computing provision including the computing suite and new ipads so they are suitable for children to use for their computing curri...</td>\n",
       "    </tr>\n",
       "    <tr>\n",
       "      <th>16</th>\n",
       "      <td>15</td>\n",
       "      <td>18</td>\n",
       "      <td>15_calming environment_space calming_calming resources_cabin room</td>\n",
       "      <td>[calming environment, space calming, calming resources, cabin room, quiet calming, offering calming, room create, fosters relaxation, room intervention, calming]</td>\n",
       "      <td>[This mini project would support many of the children within the school in offering a calming space to enable children to regulate in a safe and calming manner., This calm, quiet area would feature a variety of sensory experiences, like soothing sounds and different textures, all aimed at stimulating their interests and supporting their emotional wellbeing., This room is used a lot and we need to develop a corner of the room to provide more space for calming activities and dysregulation for ...</td>\n",
       "    </tr>\n",
       "    <tr>\n",
       "      <th>17</th>\n",
       "      <td>16</td>\n",
       "      <td>18</td>\n",
       "      <td>16_new resources_resources little_resources resources_resource resources</td>\n",
       "      <td>[new resources, resources little, resources resources, resource resources, outdated resources, resources currently, resources, resources depleted, updated resources, basic resources]</td>\n",
       "      <td>[It also highlighted our lack of science experiment resource, and how some of resources are worn and tired or broken now., We also need additional equipment for our classrooms and our curriculum, we lack the basic resources like books that are needed for the curriculum, we are buying them out of our own pockets., We need any extra money we can to buy new resources for different subjects e.g. art supplies, Maths equipment, science resources.]</td>\n",
       "    </tr>\n",
       "    <tr>\n",
       "      <th>18</th>\n",
       "      <td>17</td>\n",
       "      <td>17</td>\n",
       "      <td>17_climbing frame_climbing structures_climbing_new climbing</td>\n",
       "      <td>[climbing frame, climbing structures, climbing, new climbing, climbing multilevel, roomâ climbing, ks2 climbing, bikes scooters, bikes, physical development]</td>\n",
       "      <td>[Meanwhile, the Green Roomâ€™s climbing frame is too small for older children, limiting their physical play., As a hands-on, DIY-orientated team, we would build a new climbing frame ourselvesâ€”just as we did for our other roomâ€”maximizing the impact of your support., If we won the competition, the children would love a new climbing frame for the outdoor area, a sensory wall, and new bikes and scooters.]</td>\n",
       "    </tr>\n",
       "    <tr>\n",
       "      <th>19</th>\n",
       "      <td>18</td>\n",
       "      <td>17</td>\n",
       "      <td>18_chairs_seating children_seating_new chairs</td>\n",
       "      <td>[chairs, seating children, seating, new chairs, plastic chairs, lower chairs, comfy seating, playground classroom, library area, new desks]</td>\n",
       "      <td>[We would spend the money on some comfy seating for our library area, alongside some suitable storage for our wide rage of exciting books and stories., We could really do with some seating areas in library, We currently have a few stools but would be good to have some more comfortable seating so the children can relax and really enjoy their reading., I have a very old lab and my older student cannot fit under the wooden desk as the chairs are to high, management just tells me there is not en...</td>\n",
       "    </tr>\n",
       "    <tr>\n",
       "      <th>20</th>\n",
       "      <td>19</td>\n",
       "      <td>16</td>\n",
       "      <td>19_thank_thank thank_thank kind_kind regards</td>\n",
       "      <td>[thank, thank thank, thank kind, kind regards, regards thank, regards, , , , ]</td>\n",
       "      <td>[Thank you., Thank you., Thank you.]</td>\n",
       "    </tr>\n",
       "    <tr>\n",
       "      <th>21</th>\n",
       "      <td>20</td>\n",
       "      <td>15</td>\n",
       "      <td>20_yng nghymru_ysgol dderi_trãªn newydd_nghymru mae</td>\n",
       "      <td>[yng nghymru, ysgol dderi, trãªn newydd, nghymru mae, wedi pydru, newydd plant, mae gyda, yng ngheredigion, mae trãªn, yn medru]</td>\n",
       "      <td>[gael yng Nghymru, mae'r trÃªn bellach wedi pydru a bydd rhaid iddo fynd., Mae gyda ni cant o ddisgyblion ar y gofrestr gydag uned feithrin lle mae trÃªn pren wedi bod ers blynyddoedd lawer., Byddai hyn yn gwneud plantos bach tair a phedair oed sy'n cynnwys plant gydag anghenion dysgu ychwanegol y dosbarth yn hapus iawn.]</td>\n",
       "    </tr>\n",
       "    <tr>\n",
       "      <th>22</th>\n",
       "      <td>21</td>\n",
       "      <td>15</td>\n",
       "      <td>21_forest school_build forest_develop forest_accessible forest</td>\n",
       "      <td>[forest school, build forest, develop forest, accessible forest, improve woodland, outdoor learning, forest, setting forest, experiences forest, set forest]</td>\n",
       "      <td>[We would love to set up a forest school area on our field to enhance the current outdoor provision., We have a long term plan to turn our setting into a Forest School and our first step is to transform our current outdoor space so that it truly reflects the Forest School ethos., We are very lucky to have a forest school area in our school.]</td>\n",
       "    </tr>\n",
       "    <tr>\n",
       "      <th>23</th>\n",
       "      <td>22</td>\n",
       "      <td>15</td>\n",
       "      <td>22_damaged books_books old_reused books_books getting</td>\n",
       "      <td>[damaged books, books old, reused books, books getting, buying books, books reused, books, books budget, books community, books poor]</td>\n",
       "      <td>[We have damaged books, some of which have been in the collection for 30 years and some of which we have had to bin because they are mouldy!, We have recently revamped our school Äºibrary which involved shedding lots of outdated and damaged books., New reading books that are not falling apart, most of the books are old and have been donated or are second if not third and fourth hand.]</td>\n",
       "    </tr>\n",
       "    <tr>\n",
       "      <th>24</th>\n",
       "      <td>23</td>\n",
       "      <td>14</td>\n",
       "      <td>23_water pond_wildlife pond_pond dipping_clean pond</td>\n",
       "      <td>[water pond, wildlife pond, pond dipping, clean pond, pond pond, assess pond, pond, school pond, pond impact, animals pond]</td>\n",
       "      <td>[We have just had some help from parents to restore our school pond and would love to encourage the children to use it for pond dipping., The impact would be happier and a wider range of animals in the pond, so pond dipping during Forest School sessions would be more exciting for the children as they would be more likely to catch something., We were hoping to install some walkways so help children assess the pond for pond dipping to help with education.]</td>\n",
       "    </tr>\n",
       "    <tr>\n",
       "      <th>25</th>\n",
       "      <td>24</td>\n",
       "      <td>13</td>\n",
       "      <td>24_nature equipment_supplies ranging_including wooden_fire pit</td>\n",
       "      <td>[nature equipment, supplies ranging, including wooden, fire pit, natural equipment, play kits, growing kits, equipment, include creative, wooden boards]</td>\n",
       "      <td>[We are also in desperate need of a fire pit (Â£100) and would love to able to celebrate by inviting children to cook if we have money to buy resources., We would like to include creative equipment such as bug houses, sand, water and mud trays, chalk boards and soft play equipment to stimulate imagination., We would love to set up a fire area and we need a fire pit, flint rod, kelly kettle as well as fire safety equipment such as a bucket, sand and fire blanket.]</td>\n",
       "    </tr>\n",
       "    <tr>\n",
       "      <th>26</th>\n",
       "      <td>25</td>\n",
       "      <td>12</td>\n",
       "      <td>25_support classroom_support learners_making lessons_enhance learning</td>\n",
       "      <td>[support classroom, support learners, making lessons, enhance learning, essential educational, learning environment, learners, lessons engaging, learners ages, attending lesson]</td>\n",
       "      <td>[This would help support my setting as it will help prisioners move forward with rehabiitation and continue their journey in learning on the outside, by having additional money to provide resources for all types of learners, We are excited to propose the establishment of a coffee cart within our school, aimed at providing 16-19 year old learners with invaluable work experience., We would love to support our learners across all ages with essentials to support them to come to college from pens...</td>\n",
       "    </tr>\n",
       "    <tr>\n",
       "      <th>27</th>\n",
       "      <td>26</td>\n",
       "      <td>12</td>\n",
       "      <td>26_school library_offer library_library_local library</td>\n",
       "      <td>[school library, offer library, library, local library, library small, library shelves, library book, closest library, need library, free books]</td>\n",
       "      <td>[We have been attempting to build a library in our small provision to be able to give our young people access to a range of books including eBooks, low ability high interest, magazines, poems and classic novels., Recently, we have been taking classes to the local library for small workshops and to browse books on offer but our library requires a card to borrow books and is quite a walk away from our children's houses., We have just updated our school library to encourage a love of reading an...</td>\n",
       "    </tr>\n",
       "    <tr>\n",
       "      <th>28</th>\n",
       "      <td>27</td>\n",
       "      <td>12</td>\n",
       "      <td>27_classroom use_outdoor classroom_teaching science_resources cupboard</td>\n",
       "      <td>[classroom use, outdoor classroom, teaching science, resources cupboard, practical lessons, school use, equipment needed, fund projects, project growing, classroom]</td>\n",
       "      <td>[As vice chair of the ptfa for my childs school, i would use this to fund or go towards one of the many projects we're working on at the moment such as the outdoor classroom, I would use it to help us develop our garden and outdoor learning area, we are currently working really hard to make it a usable, productive and beautiful space but are lacking some of the resources to really push forward., We would use it to buy calculators and digital watches for exams as we have realised that many of...</td>\n",
       "    </tr>\n",
       "    <tr>\n",
       "      <th>29</th>\n",
       "      <td>28</td>\n",
       "      <td>12</td>\n",
       "      <td>28_thank thank_thank_thank kindest_kind regards</td>\n",
       "      <td>[thank thank, thank, thank kindest, kind regards, regards, thank xo, kindest regards, xo thank, jo thank, kindest]</td>\n",
       "      <td>[Thank you, Thank you, Thank you]</td>\n",
       "    </tr>\n",
       "    <tr>\n",
       "      <th>30</th>\n",
       "      <td>29</td>\n",
       "      <td>11</td>\n",
       "      <td>29_2026 schools_school 2026_open school_temporary school</td>\n",
       "      <td>[2026 schools, school 2026, open school, temporary school, schools closed, schools 60th, school january, school closed, schools, school 190]</td>\n",
       "      <td>[We finally moved back to our new temporary school in January 2025., We are a newly opened setting as of January 2025, offering our children unique opportunities like horse riding and swimming, which they might not otherwise experience., We are beginning research providers and looking to access the archives so we can spend the 2025-26 Year empowering the children and sharing the history for the final events in July 2026.]</td>\n",
       "    </tr>\n",
       "    <tr>\n",
       "      <th>31</th>\n",
       "      <td>30</td>\n",
       "      <td>11</td>\n",
       "      <td>30_develop musical_music lessons_instrument children_music</td>\n",
       "      <td>[develop musical, music lessons, instrument children, music, music equipment, music music, magical music, school music, musical, music musical]</td>\n",
       "      <td>[Music., It provides an avenue for children who cannot afford music lessons to experience the joy of learning an instrument, fostering a sense of community and pride among the class members and developing a love of music., I am the music lead and would love to have microphones and some music equipment for the children as this will better our choir department, music lessons and amplify our musical maestro performances when the children perform in from the the school.]</td>\n",
       "    </tr>\n",
       "    <tr>\n",
       "      <th>32</th>\n",
       "      <td>31</td>\n",
       "      <td>11</td>\n",
       "      <td>31_school equipment_classroom equipment_equipment outdoors_outdoor classrooms</td>\n",
       "      <td>[school equipment, classroom equipment, equipment outdoors, outdoor classrooms, limited equipment, equipment classroom, practical equipment, exciting equipment, equipment use, equipment support]</td>\n",
       "      <td>[At present, we have over 90 children benefiting from our programs, and we are eager to provide them with additional outdoor equipment that will contribute to their physical, social, and emotional development., This would be a great help to purchase some new forest school equipment to expand and stretch our children's learning as we are creating a forest school area., We are a thriving school with over 450 pupils who benefit from our large open space, but we currently have limited equipment ...</td>\n",
       "    </tr>\n",
       "  </tbody>\n",
       "</table>\n",
       "</div>"
      ],
      "text/plain": [
       "    Topic  Count  \\\n",
       "0      -1   1279   \n",
       "1       0   1271   \n",
       "2       1    153   \n",
       "3       2     54   \n",
       "4       3     53   \n",
       "5       4     43   \n",
       "6       5     32   \n",
       "7       6     32   \n",
       "8       7     31   \n",
       "9       8     28   \n",
       "10      9     28   \n",
       "11     10     27   \n",
       "12     11     27   \n",
       "13     12     26   \n",
       "14     13     26   \n",
       "15     14     21   \n",
       "16     15     18   \n",
       "17     16     18   \n",
       "18     17     17   \n",
       "19     18     17   \n",
       "20     19     16   \n",
       "21     20     15   \n",
       "22     21     15   \n",
       "23     22     15   \n",
       "24     23     14   \n",
       "25     24     13   \n",
       "26     25     12   \n",
       "27     26     12   \n",
       "28     27     12   \n",
       "29     28     12   \n",
       "30     29     11   \n",
       "31     30     11   \n",
       "32     31     11   \n",
       "\n",
       "                                                                                  Name  \\\n",
       "0                              -1_buy resources_support children_resources_educational   \n",
       "1                                             0_support children_money_funds_use money   \n",
       "2                                    1_sensory garden_garden children_garden_gardening   \n",
       "3                                    2_charity preschool_preschool_nursery_new nursery   \n",
       "4                        3_science develop_making science_future scientists_scientists   \n",
       "5                                4_pencils equipment_crafts_art supplies_pencils craft   \n",
       "6                 5_money gratefully_receive gratefully_money greatly_money monumental   \n",
       "7                         6_children access_area children_lack outside_access outdoors   \n",
       "8                       7_learning twinklâ_write twinklâ_twinklâ_headteachers children   \n",
       "9                       8_purchase books_outdoor library_storage books_outdoor reading   \n",
       "10  9_thank consideration_grateful consideration_consideration thank_thank considering   \n",
       "11                           10_maths resources_maths lessons_buy maths_math equipment   \n",
       "12                  11_children laptops_school computing_use laptops_children learning   \n",
       "13                        12_outdoor eyfs_outdoors eyfs_outdoor provision_eyfs outside   \n",
       "14                          13_healthy food_learn nutrition_learn food_lessons healthy   \n",
       "15                           14_ipads technology_ipads provide_helpful ipads_new ipads   \n",
       "16                   15_calming environment_space calming_calming resources_cabin room   \n",
       "17            16_new resources_resources little_resources resources_resource resources   \n",
       "18                         17_climbing frame_climbing structures_climbing_new climbing   \n",
       "19                                       18_chairs_seating children_seating_new chairs   \n",
       "20                                        19_thank_thank thank_thank kind_kind regards   \n",
       "21                                 20_yng nghymru_ysgol dderi_trãªn newydd_nghymru mae   \n",
       "22                      21_forest school_build forest_develop forest_accessible forest   \n",
       "23                               22_damaged books_books old_reused books_books getting   \n",
       "24                                 23_water pond_wildlife pond_pond dipping_clean pond   \n",
       "25                      24_nature equipment_supplies ranging_including wooden_fire pit   \n",
       "26               25_support classroom_support learners_making lessons_enhance learning   \n",
       "27                               26_school library_offer library_library_local library   \n",
       "28              27_classroom use_outdoor classroom_teaching science_resources cupboard   \n",
       "29                                     28_thank thank_thank_thank kindest_kind regards   \n",
       "30                            29_2026 schools_school 2026_open school_temporary school   \n",
       "31                          30_develop musical_music lessons_instrument children_music   \n",
       "32       31_school equipment_classroom equipment_equipment outdoors_outdoor classrooms   \n",
       "\n",
       "                                                                                                                                                                                               Representation  \\\n",
       "0                                                                                       [buy resources, support children, resources, educational, develop, supplies, education, development, funds, learners]   \n",
       "1                                                                                                  [support children, money, funds, use money, educational, benefit, money buy, education, develop, children]   \n",
       "2                                                         [sensory garden, garden children, garden, gardening, garden school, making sensory, gardening equipment, gardening tools, create sensory, planting]   \n",
       "3                                                    [charity preschool, preschool, nursery, new nursery, nursery setting, run preschool, reception nursery, infant school, nursery september, small charity]   \n",
       "4                                          [science develop, making science, future scientists, scientists, scientists ensure, investigations encourage, scientific, new science, science, practical science]   \n",
       "5                                                                  [pencils equipment, crafts, art supplies, pencils craft, supplies, glue sticks, pencils, pens pencils, craft materials, notebooks pencils]   \n",
       "6                                     [money gratefully, receive gratefully, money greatly, money monumental, money receive, priorities money, opportunity money, years fund, delighted obtain, impact funds]   \n",
       "7                                                               [children access, area children, lack outside, access outdoors, access outside, children live, homes area, parents park, outdoors, home lack]   \n",
       "8                                            [learning twinklâ, write twinklâ, twinklâ, headteachers children, headteachers, partner teacher, webs educational, home educators, teaching life, help children]   \n",
       "9                                                                    [purchase books, outdoor library, storage books, outdoor reading, library children, books, book, library stock, engaging books, library]   \n",
       "10  [thank consideration, grateful consideration, consideration thank, thank considering, consideration appreciate, appreciate considering, considering thank, consideration, considered thank, impact thank]   \n",
       "11                                                          [maths resources, maths lessons, buy maths, math equipment, use maths, maths practical, number teaching, need resources, maths lesson, resources]   \n",
       "12                                                [children laptops, school computing, use laptops, children learning, new laptops, computing skills, laptops, laptops old, school tablet, little technology]   \n",
       "13                                                    [outdoor eyfs, outdoors eyfs, outdoor provision, eyfs outside, develop outdoor, eyfs area, outdoor learning, improve eyfs, learning eyfs, outdoor area]   \n",
       "14                                                    [healthy food, learn nutrition, learn food, lessons healthy, healthier food, learn cuisines, nutrition health, good nutrition, healthy eating, cooking]   \n",
       "15                                                                    [ipads technology, ipads provide, helpful ipads, new ipads, ipads laptops, ipads, ipads suitable, 10 ipads, laptop ipad, working ipads]   \n",
       "16                                          [calming environment, space calming, calming resources, cabin room, quiet calming, offering calming, room create, fosters relaxation, room intervention, calming]   \n",
       "17                     [new resources, resources little, resources resources, resource resources, outdated resources, resources currently, resources, resources depleted, updated resources, basic resources]   \n",
       "18                                              [climbing frame, climbing structures, climbing, new climbing, climbing multilevel, roomâ climbing, ks2 climbing, bikes scooters, bikes, physical development]   \n",
       "19                                                                [chairs, seating children, seating, new chairs, plastic chairs, lower chairs, comfy seating, playground classroom, library area, new desks]   \n",
       "20                                                                                                                             [thank, thank thank, thank kind, kind regards, regards thank, regards, , , , ]   \n",
       "21                                                                           [yng nghymru, ysgol dderi, trãªn newydd, nghymru mae, wedi pydru, newydd plant, mae gyda, yng ngheredigion, mae trãªn, yn medru]   \n",
       "22                                               [forest school, build forest, develop forest, accessible forest, improve woodland, outdoor learning, forest, setting forest, experiences forest, set forest]   \n",
       "23                                                                      [damaged books, books old, reused books, books getting, buying books, books reused, books, books budget, books community, books poor]   \n",
       "24                                                                                [water pond, wildlife pond, pond dipping, clean pond, pond pond, assess pond, pond, school pond, pond impact, animals pond]   \n",
       "25                                                   [nature equipment, supplies ranging, including wooden, fire pit, natural equipment, play kits, growing kits, equipment, include creative, wooden boards]   \n",
       "26                          [support classroom, support learners, making lessons, enhance learning, essential educational, learning environment, learners, lessons engaging, learners ages, attending lesson]   \n",
       "27                                                           [school library, offer library, library, local library, library small, library shelves, library book, closest library, need library, free books]   \n",
       "28                                       [classroom use, outdoor classroom, teaching science, resources cupboard, practical lessons, school use, equipment needed, fund projects, project growing, classroom]   \n",
       "29                                                                                         [thank thank, thank, thank kindest, kind regards, regards, thank xo, kindest regards, xo thank, jo thank, kindest]   \n",
       "30                                                               [2026 schools, school 2026, open school, temporary school, schools closed, schools 60th, school january, school closed, schools, school 190]   \n",
       "31                                                            [develop musical, music lessons, instrument children, music, music equipment, music music, magical music, school music, musical, music musical]   \n",
       "32         [school equipment, classroom equipment, equipment outdoors, outdoor classrooms, limited equipment, equipment classroom, practical equipment, exciting equipment, equipment use, equipment support]   \n",
       "\n",
       "                                                                                                                                                                                                                                                                                                                                                                                                                                                                                                    Representative_Docs  \n",
       "0                                                                                                                                                               [We would use this money to buy resources that help develop the children's literacy and numeracy skills, especially in our outdoor environment., I would like to buy equipment and resources to help develop theses skills and help to support these children to develop in order for them to thrive in the future., Buy resources to support learning]  \n",
       "1                                                                                                                                                                                                  [We would use this money to buy sensory equipment for our Nurture provision., We would use any money to support our children in developing their outdoor space., We have a high number of pupils in foundation phase with additional sensory needs, we would use the money to get resources to support these pupils]  \n",
       "2                                                                                                                                                                                                                                                                       [Our Japanese garden needs transforming into a sensory garden for our children with SEN., We would very much like to make a sensory garden for the children to enjoy!, We would love some plants to create a sensory garden for the under 2's.]  \n",
       "3                                                                                                      [Our charity preschool, proudly serving the community for over 40 years, is dedicated to providing a safe, nurturing, and inspiring environment for young children to learn, grow, and thrive., We are a small charity run community nursery in Elsecar, Barnsley., We are a small charity run preschool in a small village in Somerset, we only have 17 children on the register (which is quite busy for us!)]  \n",
       "4   [This funding would bring science to life fostering curiosity, creativity and problem solving skills through real world nature based learning., Your funding would ensure all our pupils, regardless of background, can experience the excitement of real-world science and develop a lifelong love for STEM with some extra funding., Your funding would ensure all our pupils, regardless of background, can experience the excitement of real-world science and develop a lifelong love for STEM with some ex...  \n",
       "5                                                                         [Then with any left over money I would buy basic supplies like glue sticks, paper, coloured paper, pens and pencils, as money is very tight!, Aswell as stationery like glue sticks, pens, pencils and colouring pencils\\nAlso equipment to help to support SEND children with motor skills!, Aswell as stationery like glue sticks, pens, pencils and colouring pencils\\nAlso equipment to help to support SEND children with motor skills!]  \n",
       "6                                                                                                                                                                                                                                                         [Any money we receive will be very gratefully received., The money would be so gratefully received and have a big impact., We would dearly love to update our history artefacts and our globes and atlases to help enrich our history and geography lessons.]  \n",
       "7                                                                                                                                                                                                                    [Most of our children live in flats, often in cramped conditions and no access to the outdoors., Two thirds of our pre-school children live in flats with little or no access to an outside play area., We have a lot of children in our cohort who don't have access to an outside space at home]  \n",
       "8   [We would love to purchase some headphones with an attached microphone to allow them to use dictate to text, meaning their ideas can be shared without the fear or block of needing to write them down., Dear Team Twinkl,\\nThe Disraeli School in High Wycombe: a thriving 3 form primary school with brilliant, very dedicated staff and inspiring co-Headteachers., Both myself and my year group partner teacher are absolutely loving the Twinkl Original books for our reading sessions as they compliment...  \n",
       "9   [This would be used to develop our reading areas with an outdoor reading shed in eyfs - we invite parents to share a book before school and would like to purchase beanbags, crates and punting to enhance this area., I would like to create an outdoor reading area for my SEN school so the money would used to provide suitable weather proof book storage and books., If our school won Â£500, it would be split so that we could use Â£250 towards new books and items for our new reading retreat, and th...  \n",
       "10                                                                                                                                                                                                                                                                                                                                                                                                            [Thank you for your consideration., Thank you for your consideration., Thank you for your consideration.]  \n",
       "11                                 [We are looking to buy more Maths resources for EYFS, KS1 and KS2, including books with stories in maths, I would also love to buy more maths resources for counting and number recognition to be able to develop the childrenâ€™s understanding of maths and enabling them to become school ready., We would like the money for hands on Maths resources - 2d shapes and 3d shapes for ks1 and ks2 to use in Maths lessons and weighing scales for use in Maths across the school.]  \n",
       "12                                                                                                              [We have very little technology to use with our SEN children and desperately need interactive resources where the children can learn to type, voice record and photograph evidence of their learning., We need to upgrade 35 children's laptops in September as our current laptops won't meet a software update., Working laptops for children to learn the basic Computing skills in KS1 curriculum.]  \n",
       "13                                                                                                      [We are currently trying to revamp our small EYFS outside area, to encourage outdoor learning and foster a love of the outdoors in our children., I have recently moved to EYFS and as a team, we are trying to develop our EYFS classrooms., Our EYFS team and I have been trying to develop building areas, sensory kitchens, source resources for those areas and outdoor water play and small world areas.]  \n",
       "14                                                      [Healthy Eating: Students learn about nutrition and the importance of balanced diets, encouraging healthier food choices., As well as teaching an important life skill we aim to instill a love and joy for good healthy food and help the children to understand the importance of good nutrition., Healthy eating project - I would love to be able to cook with the children in our school to encourage healthy eating and a healthy attitude towards food.]  \n",
       "15  [Also tech gadgets like a portable laptop for me to do my Phonics Lead work, and a small reasonable user friendly projector for Power Point presentations for example, Twinkl Phonics, special weeks and days., Our current one is old and the charging ports don't all work meaning we have to charge 10 ipads with 4 working ports., We will be raising money to update our computing provision including the computing suite and new ipads so they are suitable for children to use for their computing curri...  \n",
       "16  [This mini project would support many of the children within the school in offering a calming space to enable children to regulate in a safe and calming manner., This calm, quiet area would feature a variety of sensory experiences, like soothing sounds and different textures, all aimed at stimulating their interests and supporting their emotional wellbeing., This room is used a lot and we need to develop a corner of the room to provide more space for calming activities and dysregulation for ...  \n",
       "17                                                        [It also highlighted our lack of science experiment resource, and how some of resources are worn and tired or broken now., We also need additional equipment for our classrooms and our curriculum, we lack the basic resources like books that are needed for the curriculum, we are buying them out of our own pockets., We need any extra money we can to buy new resources for different subjects e.g. art supplies, Maths equipment, science resources.]  \n",
       "18                                                                                             [Meanwhile, the Green Roomâ€™s climbing frame is too small for older children, limiting their physical play., As a hands-on, DIY-orientated team, we would build a new climbing frame ourselvesâ€”just as we did for our other roomâ€”maximizing the impact of your support., If we won the competition, the children would love a new climbing frame for the outdoor area, a sensory wall, and new bikes and scooters.]  \n",
       "19  [We would spend the money on some comfy seating for our library area, alongside some suitable storage for our wide rage of exciting books and stories., We could really do with some seating areas in library, We currently have a few stools but would be good to have some more comfortable seating so the children can relax and really enjoy their reading., I have a very old lab and my older student cannot fit under the wooden desk as the chairs are to high, management just tells me there is not en...  \n",
       "20                                                                                                                                                                                                                                                                                                                                                                                                                                                                                 [Thank you., Thank you., Thank you.]  \n",
       "21                                                                                                                                                                                  [gael yng Nghymru, mae'r trÃªn bellach wedi pydru a bydd rhaid iddo fynd., Mae gyda ni cant o ddisgyblion ar y gofrestr gydag uned feithrin lle mae trÃªn pren wedi bod ers blynyddoedd lawer., Byddai hyn yn gwneud plantos bach tair a phedair oed sy'n cynnwys plant gydag anghenion dysgu ychwanegol y dosbarth yn hapus iawn.]  \n",
       "22                                                                                                                                                              [We would love to set up a forest school area on our field to enhance the current outdoor provision., We have a long term plan to turn our setting into a Forest School and our first step is to transform our current outdoor space so that it truly reflects the Forest School ethos., We are very lucky to have a forest school area in our school.]  \n",
       "23                                                                                                                  [We have damaged books, some of which have been in the collection for 30 years and some of which we have had to bin because they are mouldy!, We have recently revamped our school Äºibrary which involved shedding lots of outdated and damaged books., New reading books that are not falling apart, most of the books are old and have been donated or are second if not third and fourth hand.]  \n",
       "24                                           [We have just had some help from parents to restore our school pond and would love to encourage the children to use it for pond dipping., The impact would be happier and a wider range of animals in the pond, so pond dipping during Forest School sessions would be more exciting for the children as they would be more likely to catch something., We were hoping to install some walkways so help children assess the pond for pond dipping to help with education.]  \n",
       "25                                  [We are also in desperate need of a fire pit (Â£100) and would love to able to celebrate by inviting children to cook if we have money to buy resources., We would like to include creative equipment such as bug houses, sand, water and mud trays, chalk boards and soft play equipment to stimulate imagination., We would love to set up a fire area and we need a fire pit, flint rod, kelly kettle as well as fire safety equipment such as a bucket, sand and fire blanket.]  \n",
       "26  [This would help support my setting as it will help prisioners move forward with rehabiitation and continue their journey in learning on the outside, by having additional money to provide resources for all types of learners, We are excited to propose the establishment of a coffee cart within our school, aimed at providing 16-19 year old learners with invaluable work experience., We would love to support our learners across all ages with essentials to support them to come to college from pens...  \n",
       "27  [We have been attempting to build a library in our small provision to be able to give our young people access to a range of books including eBooks, low ability high interest, magazines, poems and classic novels., Recently, we have been taking classes to the local library for small workshops and to browse books on offer but our library requires a card to borrow books and is quite a walk away from our children's houses., We have just updated our school library to encourage a love of reading an...  \n",
       "28  [As vice chair of the ptfa for my childs school, i would use this to fund or go towards one of the many projects we're working on at the moment such as the outdoor classroom, I would use it to help us develop our garden and outdoor learning area, we are currently working really hard to make it a usable, productive and beautiful space but are lacking some of the resources to really push forward., We would use it to buy calculators and digital watches for exams as we have realised that many of...  \n",
       "29                                                                                                                                                                                                                                                                                                                                                                                                                                                                                    [Thank you, Thank you, Thank you]  \n",
       "30                                                                            [We finally moved back to our new temporary school in January 2025., We are a newly opened setting as of January 2025, offering our children unique opportunities like horse riding and swimming, which they might not otherwise experience., We are beginning research providers and looking to access the archives so we can spend the 2025-26 Year empowering the children and sharing the history for the final events in July 2026.]  \n",
       "31                              [Music., It provides an avenue for children who cannot afford music lessons to experience the joy of learning an instrument, fostering a sense of community and pride among the class members and developing a love of music., I am the music lead and would love to have microphones and some music equipment for the children as this will better our choir department, music lessons and amplify our musical maestro performances when the children perform in from the the school.]  \n",
       "32  [At present, we have over 90 children benefiting from our programs, and we are eager to provide them with additional outdoor equipment that will contribute to their physical, social, and emotional development., This would be a great help to purchase some new forest school equipment to expand and stretch our children's learning as we are creating a forest school area., We are a thriving school with over 450 pupils who benefit from our large open space, but we currently have limited equipment ...  "
      ]
     },
     "execution_count": 77,
     "metadata": {},
     "output_type": "execute_result"
    }
   ],
   "source": [
    "pd.set_option('display.max_rows', None)\n",
    "topic_model.get_topic_info()"
   ]
  },
  {
   "cell_type": "code",
   "execution_count": 78,
   "id": "66e6a453-de0e-4fde-a825-78952722c226",
   "metadata": {},
   "outputs": [
    {
     "data": {
      "application/vnd.plotly.v1+json": {
       "config": {
        "plotlyServerURL": "https://plot.ly"
       },
       "data": [
        {
         "hoverinfo": "text",
         "marker": {
          "color": "rgb(61,153,112)"
         },
         "mode": "lines",
         "type": "scatter",
         "x": {
          "bdata": "AAAAAAAAAACyYMqUDOXQP7JgypQM5dA/AAAAAAAAAAA=",
          "dtype": "f8"
         },
         "xaxis": "x",
         "y": {
          "bdata": "AAAAAAAAFMAAAAAAAAAUwAAAAAAAAC7AAAAAAAAALsA=",
          "dtype": "f8"
         },
         "yaxis": "y"
        },
        {
         "hoverinfo": "text",
         "marker": {
          "color": "rgb(61,153,112)"
         },
         "mode": "lines",
         "type": "scatter",
         "x": {
          "bdata": "smDKlAzl0D//IKkPtXHmP/8gqQ+1ceY/AAAAAAAAAAA=",
          "dtype": "f8"
         },
         "xaxis": "x",
         "y": {
          "bdata": "AAAAAAAAJMAAAAAAAAAkwAAAAAAAADnAAAAAAAAAOcA=",
          "dtype": "f8"
         },
         "yaxis": "y"
        },
        {
         "hoverinfo": "text",
         "marker": {
          "color": "rgb(255,65,54)"
         },
         "mode": "lines",
         "type": "scatter",
         "x": {
          "bdata": "AAAAAAAAAABHhgyu+znrP0eGDK77Oes/AAAAAAAAAAA=",
          "dtype": "f8"
         },
         "xaxis": "x",
         "y": {
          "bdata": "AAAAAACARsAAAAAAAIBGwAAAAAAAgEvAAAAAAACAS8A=",
          "dtype": "f8"
         },
         "yaxis": "y"
        },
        {
         "hoverinfo": "text",
         "marker": {
          "color": "rgb(255,65,54)"
         },
         "mode": "lines",
         "type": "scatter",
         "x": {
          "bdata": "R4YMrvs56z9chdgXzfzrP1yF2BfN/Os/AAAAAAAAAAA=",
          "dtype": "f8"
         },
         "xaxis": "x",
         "y": {
          "bdata": "AAAAAAAAScAAAAAAAABJwAAAAAAAQFDAAAAAAABAUMA=",
          "dtype": "f8"
         },
         "yaxis": "y"
        },
        {
         "hoverinfo": "text",
         "marker": {
          "color": "rgb(255,65,54)"
         },
         "mode": "lines",
         "type": "scatter",
         "x": {
          "bdata": "AAAAAAAAAADbEnvRiq/sP9sSe9GKr+w/XIXYF8386z8=",
          "dtype": "f8"
         },
         "xaxis": "x",
         "y": {
          "bdata": "AAAAAACAQcAAAAAAAIBBwAAAAAAAwEzAAAAAAADATMA=",
          "dtype": "f8"
         },
         "yaxis": "y"
        },
        {
         "hoverinfo": "text",
         "marker": {
          "color": "rgb(35,205,205)"
         },
         "mode": "lines",
         "type": "scatter",
         "x": {
          "bdata": "AAAAAAAAAAD3+GQUE5rsP/f4ZBQTmuw/AAAAAAAAAAA=",
          "dtype": "f8"
         },
         "xaxis": "x",
         "y": {
          "bdata": "AAAAAABAVcAAAAAAAEBVwAAAAAAAwFfAAAAAAADAV8A=",
          "dtype": "f8"
         },
         "yaxis": "y"
        },
        {
         "hoverinfo": "text",
         "marker": {
          "color": "rgb(35,205,205)"
         },
         "mode": "lines",
         "type": "scatter",
         "x": {
          "bdata": "AAAAAAAAAAD5vRHfzKLuP/m9Ed/Mou4/9/hkFBOa7D8=",
          "dtype": "f8"
         },
         "xaxis": "x",
         "y": {
          "bdata": "AAAAAADAUsAAAAAAAMBSwAAAAAAAgFbAAAAAAACAVsA=",
          "dtype": "f8"
         },
         "yaxis": "y"
        },
        {
         "hoverinfo": "text",
         "marker": {
          "color": "rgb(35,205,205)"
         },
         "mode": "lines",
         "type": "scatter",
         "x": {
          "bdata": "AAAAAAAAAAC85qZs8HbtP7zmpmzwdu0/AAAAAAAAAAA=",
          "dtype": "f8"
         },
         "xaxis": "x",
         "y": {
          "bdata": "AAAAAABAWsAAAAAAAEBawAAAAAAAwFzAAAAAAADAXMA=",
          "dtype": "f8"
         },
         "yaxis": "y"
        },
        {
         "hoverinfo": "text",
         "marker": {
          "color": "rgb(35,205,205)"
         },
         "mode": "lines",
         "type": "scatter",
         "x": {
          "bdata": "AAAAAAAAAACkRrRb8zDmP6RGtFvzMOY/AAAAAAAAAAA=",
          "dtype": "f8"
         },
         "xaxis": "x",
         "y": {
          "bdata": "AAAAAADgYMAAAAAAAOBgwAAAAAAAIGLAAAAAAAAgYsA=",
          "dtype": "f8"
         },
         "yaxis": "y"
        },
        {
         "hoverinfo": "text",
         "marker": {
          "color": "rgb(35,205,205)"
         },
         "mode": "lines",
         "type": "scatter",
         "x": {
          "bdata": "AAAAAAAAAAD6Aw4VcYvrP/oDDhVxi+s/pEa0W/Mw5j8=",
          "dtype": "f8"
         },
         "xaxis": "x",
         "y": {
          "bdata": "AAAAAABAX8AAAAAAAEBfwAAAAAAAgGHAAAAAAACAYcA=",
          "dtype": "f8"
         },
         "yaxis": "y"
        },
        {
         "hoverinfo": "text",
         "marker": {
          "color": "rgb(35,205,205)"
         },
         "mode": "lines",
         "type": "scatter",
         "x": {
          "bdata": "+gMOFXGL6z+Yby6xbLjtP5hvLrFsuO0/AAAAAAAAAAA=",
          "dtype": "f8"
         },
         "xaxis": "x",
         "y": {
          "bdata": "AAAAAACQYMAAAAAAAJBgwAAAAAAAYGPAAAAAAABgY8A=",
          "dtype": "f8"
         },
         "yaxis": "y"
        },
        {
         "hoverinfo": "text",
         "marker": {
          "color": "rgb(35,205,205)"
         },
         "mode": "lines",
         "type": "scatter",
         "x": {
          "bdata": "vOambPB27T/OdgdMxbLuP852B0zFsu4/mG8usWy47T8=",
          "dtype": "f8"
         },
         "xaxis": "x",
         "y": {
          "bdata": "AAAAAACAW8AAAAAAAIBbwAAAAAAA+GHAAAAAAAD4YcA=",
          "dtype": "f8"
         },
         "yaxis": "y"
        },
        {
         "hoverinfo": "text",
         "marker": {
          "color": "rgb(35,205,205)"
         },
         "mode": "lines",
         "type": "scatter",
         "x": {
          "bdata": "+b0R38yi7j8fIyis2rHvPx8jKKzase8/znYHTMWy7j8=",
          "dtype": "f8"
         },
         "xaxis": "x",
         "y": {
          "bdata": "AAAAAACgVMAAAAAAAKBUwAAAAAAAuF/AAAAAAAC4X8A=",
          "dtype": "f8"
         },
         "yaxis": "y"
        },
        {
         "hoverinfo": "text",
         "marker": {
          "color": "rgb(133,20,75)"
         },
         "mode": "lines",
         "type": "scatter",
         "x": {
          "bdata": "AAAAAAAAAADqg/+1uDLqP+qD/7W4Muo/AAAAAAAAAAA=",
          "dtype": "f8"
         },
         "xaxis": "x",
         "y": {
          "bdata": "AAAAAACgZMAAAAAAAKBkwAAAAAAA4GXAAAAAAADgZcA=",
          "dtype": "f8"
         },
         "yaxis": "y"
        },
        {
         "hoverinfo": "text",
         "marker": {
          "color": "rgb(0,116,217)"
         },
         "mode": "lines",
         "type": "scatter",
         "x": {
          "bdata": "HyMorNqx7z8Mkx3gm4/wPwyTHeCbj/A/6oP/tbgy6j8=",
          "dtype": "f8"
         },
         "xaxis": "x",
         "y": {
          "bdata": "AAAAAAAsWsAAAAAAACxawAAAAAAAQGXAAAAAAABAZcA=",
          "dtype": "f8"
         },
         "yaxis": "y"
        },
        {
         "hoverinfo": "text",
         "marker": {
          "color": "rgb(255,220,0)"
         },
         "mode": "lines",
         "type": "scatter",
         "x": {
          "bdata": "AAAAAAAAAACnHK7wKFXuP6ccrvAoVe4/AAAAAAAAAAA=",
          "dtype": "f8"
         },
         "xaxis": "x",
         "y": {
          "bdata": "AAAAAAAgZ8AAAAAAACBnwAAAAAAAYGjAAAAAAABgaMA=",
          "dtype": "f8"
         },
         "yaxis": "y"
        },
        {
         "hoverinfo": "text",
         "marker": {
          "color": "rgb(40,35,35)"
         },
         "mode": "lines",
         "type": "scatter",
         "x": {
          "bdata": "AAAAAAAAAAA1AaqFKyTtPzUBqoUrJO0/AAAAAAAAAAA=",
          "dtype": "f8"
         },
         "xaxis": "x",
         "y": {
          "bdata": "AAAAAADgasAAAAAAAOBqwAAAAAAAIGzAAAAAAAAgbMA=",
          "dtype": "f8"
         },
         "yaxis": "y"
        },
        {
         "hoverinfo": "text",
         "marker": {
          "color": "rgb(40,35,35)"
         },
         "mode": "lines",
         "type": "scatter",
         "x": {
          "bdata": "AAAAAAAAAAClU11F3DXvP6VTXUXcNe8/NQGqhSsk7T8=",
          "dtype": "f8"
         },
         "xaxis": "x",
         "y": {
          "bdata": "AAAAAACgacAAAAAAAKBpwAAAAAAAgGvAAAAAAACAa8A=",
          "dtype": "f8"
         },
         "yaxis": "y"
        },
        {
         "hoverinfo": "text",
         "marker": {
          "color": "rgb(61,153,112)"
         },
         "mode": "lines",
         "type": "scatter",
         "x": {
          "bdata": "AAAAAAAAAADJbcVHzxfuP8ltxUfPF+4/AAAAAAAAAAA=",
          "dtype": "f8"
         },
         "xaxis": "x",
         "y": {
          "bdata": "AAAAAABgbcAAAAAAAGBtwAAAAAAAoG7AAAAAAACgbsA=",
          "dtype": "f8"
         },
         "yaxis": "y"
        },
        {
         "hoverinfo": "text",
         "marker": {
          "color": "rgb(61,153,112)"
         },
         "mode": "lines",
         "type": "scatter",
         "x": {
          "bdata": "AAAAAAAAAAAX7/zWoBLtPxfv/NagEu0/AAAAAAAAAAA=",
          "dtype": "f8"
         },
         "xaxis": "x",
         "y": {
          "bdata": "AAAAAADgb8AAAAAAAOBvwAAAAAAAkHDAAAAAAACQcMA=",
          "dtype": "f8"
         },
         "yaxis": "y"
        },
        {
         "hoverinfo": "text",
         "marker": {
          "color": "rgb(61,153,112)"
         },
         "mode": "lines",
         "type": "scatter",
         "x": {
          "bdata": "yW3FR88X7j/R6bT78/jvP9HptPvz+O8/F+/81qAS7T8=",
          "dtype": "f8"
         },
         "xaxis": "x",
         "y": {
          "bdata": "AAAAAAAAbsAAAAAAAABuwAAAAAAAQHDAAAAAAABAcMA=",
          "dtype": "f8"
         },
         "yaxis": "y"
        },
        {
         "hoverinfo": "text",
         "marker": {
          "color": "rgb(0,116,217)"
         },
         "mode": "lines",
         "type": "scatter",
         "x": {
          "bdata": "pVNdRdw17z/iJ7+MqgfwP+Inv4yqB/A/0em0+/P47z8=",
          "dtype": "f8"
         },
         "xaxis": "x",
         "y": {
          "bdata": "AAAAAACQasAAAAAAAJBqwAAAAAAAQG/AAAAAAABAb8A=",
          "dtype": "f8"
         },
         "yaxis": "y"
        },
        {
         "hoverinfo": "text",
         "marker": {
          "color": "rgb(0,116,217)"
         },
         "mode": "lines",
         "type": "scatter",
         "x": {
          "bdata": "pxyu8ChV7j/90Ow7/EDwP/3Q7Dv8QPA/4ie/jKoH8D8=",
          "dtype": "f8"
         },
         "xaxis": "x",
         "y": {
          "bdata": "AAAAAADAZ8AAAAAAAMBnwAAAAAAA6GzAAAAAAADobMA=",
          "dtype": "f8"
         },
         "yaxis": "y"
        },
        {
         "hoverinfo": "text",
         "marker": {
          "color": "rgb(255,65,54)"
         },
         "mode": "lines",
         "type": "scatter",
         "x": {
          "bdata": "AAAAAAAAAADcNd7z5VHuP9w13vPlUe4/AAAAAAAAAAA=",
          "dtype": "f8"
         },
         "xaxis": "x",
         "y": {
          "bdata": "AAAAAAAwccAAAAAAADBxwAAAAAAA0HHAAAAAAADQccA=",
          "dtype": "f8"
         },
         "yaxis": "y"
        },
        {
         "hoverinfo": "text",
         "marker": {
          "color": "rgb(35,205,205)"
         },
         "mode": "lines",
         "type": "scatter",
         "x": {
          "bdata": "AAAAAAAAAAAE7wptQpXvPwTvCm1Cle8/AAAAAAAAAAA=",
          "dtype": "f8"
         },
         "xaxis": "x",
         "y": {
          "bdata": "AAAAAABwcsAAAAAAAHBywAAAAAAAEHPAAAAAAAAQc8A=",
          "dtype": "f8"
         },
         "yaxis": "y"
        },
        {
         "hoverinfo": "text",
         "marker": {
          "color": "rgb(0,116,217)"
         },
         "mode": "lines",
         "type": "scatter",
         "x": {
          "bdata": "3DXe8+VR7j+U+hyXXADwP5T6HJdcAPA/BO8KbUKV7z8=",
          "dtype": "f8"
         },
         "xaxis": "x",
         "y": {
          "bdata": "AAAAAACAccAAAAAAAIBxwAAAAAAAwHLAAAAAAADAcsA=",
          "dtype": "f8"
         },
         "yaxis": "y"
        },
        {
         "hoverinfo": "text",
         "marker": {
          "color": "rgb(0,116,217)"
         },
         "mode": "lines",
         "type": "scatter",
         "x": {
          "bdata": "lPocl1wA8D8Bw+a+cDHwPwHD5r5wMfA/AAAAAAAAAAA=",
          "dtype": "f8"
         },
         "xaxis": "x",
         "y": {
          "bdata": "AAAAAAAgcsAAAAAAACBywAAAAAAAsHPAAAAAAACwc8A=",
          "dtype": "f8"
         },
         "yaxis": "y"
        },
        {
         "hoverinfo": "text",
         "marker": {
          "color": "rgb(0,116,217)"
         },
         "mode": "lines",
         "type": "scatter",
         "x": {
          "bdata": "/dDsO/xA8D8b2ck8dcLwPxvZyTx1wvA/AcPmvnAx8D8=",
          "dtype": "f8"
         },
         "xaxis": "x",
         "y": {
          "bdata": "AAAAAABUasAAAAAAAFRqwAAAAAAA6HLAAAAAAADocsA=",
          "dtype": "f8"
         },
         "yaxis": "y"
        },
        {
         "hoverinfo": "text",
         "marker": {
          "color": "rgb(0,116,217)"
         },
         "mode": "lines",
         "type": "scatter",
         "x": {
          "bdata": "DJMd4JuP8D9ppytoWHPxP2mnK2hYc/E/G9nJPHXC8D8=",
          "dtype": "f8"
         },
         "xaxis": "x",
         "y": {
          "bdata": "AAAAAAArYcAAAAAAACthwAAAAAAACXDAAAAAAAAJcMA=",
          "dtype": "f8"
         },
         "yaxis": "y"
        },
        {
         "hoverinfo": "text",
         "marker": {
          "color": "rgb(0,116,217)"
         },
         "mode": "lines",
         "type": "scatter",
         "x": {
          "bdata": "2xJ70Yqv7D8vVZwZrQfzPy9VnBmtB/M/aacraFhz8T8=",
          "dtype": "f8"
         },
         "xaxis": "x",
         "y": {
          "bdata": "AAAAAAAgR8AAAAAAACBHwAAAAACAnmjAAAAAAICeaMA=",
          "dtype": "f8"
         },
         "yaxis": "y"
        },
        {
         "hoverinfo": "text",
         "marker": {
          "color": "rgb(0,116,217)"
         },
         "mode": "lines",
         "type": "scatter",
         "x": {
          "bdata": "/yCpD7Vx5j/cLMjRPkz5P9wsyNE+TPk/L1WcGa0H8z8=",
          "dtype": "f8"
         },
         "xaxis": "x",
         "y": {
          "bdata": "AAAAAACAMcAAAAAAAIAxwAAAAACAZl7AAAAAAIBmXsA=",
          "dtype": "f8"
         },
         "yaxis": "y"
        }
       ],
       "layout": {
        "autosize": false,
        "height": 680,
        "hoverlabel": {
         "bgcolor": "white",
         "font": {
          "family": "Rockwell",
          "size": 16
         }
        },
        "hovermode": "closest",
        "plot_bgcolor": "#ECEFF1",
        "showlegend": false,
        "template": {
         "data": {
          "bar": [
           {
            "error_x": {
             "color": "#2a3f5f"
            },
            "error_y": {
             "color": "#2a3f5f"
            },
            "marker": {
             "line": {
              "color": "white",
              "width": 0.5
             },
             "pattern": {
              "fillmode": "overlay",
              "size": 10,
              "solidity": 0.2
             }
            },
            "type": "bar"
           }
          ],
          "barpolar": [
           {
            "marker": {
             "line": {
              "color": "white",
              "width": 0.5
             },
             "pattern": {
              "fillmode": "overlay",
              "size": 10,
              "solidity": 0.2
             }
            },
            "type": "barpolar"
           }
          ],
          "carpet": [
           {
            "aaxis": {
             "endlinecolor": "#2a3f5f",
             "gridcolor": "#C8D4E3",
             "linecolor": "#C8D4E3",
             "minorgridcolor": "#C8D4E3",
             "startlinecolor": "#2a3f5f"
            },
            "baxis": {
             "endlinecolor": "#2a3f5f",
             "gridcolor": "#C8D4E3",
             "linecolor": "#C8D4E3",
             "minorgridcolor": "#C8D4E3",
             "startlinecolor": "#2a3f5f"
            },
            "type": "carpet"
           }
          ],
          "choropleth": [
           {
            "colorbar": {
             "outlinewidth": 0,
             "ticks": ""
            },
            "type": "choropleth"
           }
          ],
          "contour": [
           {
            "colorbar": {
             "outlinewidth": 0,
             "ticks": ""
            },
            "colorscale": [
             [
              0,
              "#0d0887"
             ],
             [
              0.1111111111111111,
              "#46039f"
             ],
             [
              0.2222222222222222,
              "#7201a8"
             ],
             [
              0.3333333333333333,
              "#9c179e"
             ],
             [
              0.4444444444444444,
              "#bd3786"
             ],
             [
              0.5555555555555556,
              "#d8576b"
             ],
             [
              0.6666666666666666,
              "#ed7953"
             ],
             [
              0.7777777777777778,
              "#fb9f3a"
             ],
             [
              0.8888888888888888,
              "#fdca26"
             ],
             [
              1,
              "#f0f921"
             ]
            ],
            "type": "contour"
           }
          ],
          "contourcarpet": [
           {
            "colorbar": {
             "outlinewidth": 0,
             "ticks": ""
            },
            "type": "contourcarpet"
           }
          ],
          "heatmap": [
           {
            "colorbar": {
             "outlinewidth": 0,
             "ticks": ""
            },
            "colorscale": [
             [
              0,
              "#0d0887"
             ],
             [
              0.1111111111111111,
              "#46039f"
             ],
             [
              0.2222222222222222,
              "#7201a8"
             ],
             [
              0.3333333333333333,
              "#9c179e"
             ],
             [
              0.4444444444444444,
              "#bd3786"
             ],
             [
              0.5555555555555556,
              "#d8576b"
             ],
             [
              0.6666666666666666,
              "#ed7953"
             ],
             [
              0.7777777777777778,
              "#fb9f3a"
             ],
             [
              0.8888888888888888,
              "#fdca26"
             ],
             [
              1,
              "#f0f921"
             ]
            ],
            "type": "heatmap"
           }
          ],
          "histogram": [
           {
            "marker": {
             "pattern": {
              "fillmode": "overlay",
              "size": 10,
              "solidity": 0.2
             }
            },
            "type": "histogram"
           }
          ],
          "histogram2d": [
           {
            "colorbar": {
             "outlinewidth": 0,
             "ticks": ""
            },
            "colorscale": [
             [
              0,
              "#0d0887"
             ],
             [
              0.1111111111111111,
              "#46039f"
             ],
             [
              0.2222222222222222,
              "#7201a8"
             ],
             [
              0.3333333333333333,
              "#9c179e"
             ],
             [
              0.4444444444444444,
              "#bd3786"
             ],
             [
              0.5555555555555556,
              "#d8576b"
             ],
             [
              0.6666666666666666,
              "#ed7953"
             ],
             [
              0.7777777777777778,
              "#fb9f3a"
             ],
             [
              0.8888888888888888,
              "#fdca26"
             ],
             [
              1,
              "#f0f921"
             ]
            ],
            "type": "histogram2d"
           }
          ],
          "histogram2dcontour": [
           {
            "colorbar": {
             "outlinewidth": 0,
             "ticks": ""
            },
            "colorscale": [
             [
              0,
              "#0d0887"
             ],
             [
              0.1111111111111111,
              "#46039f"
             ],
             [
              0.2222222222222222,
              "#7201a8"
             ],
             [
              0.3333333333333333,
              "#9c179e"
             ],
             [
              0.4444444444444444,
              "#bd3786"
             ],
             [
              0.5555555555555556,
              "#d8576b"
             ],
             [
              0.6666666666666666,
              "#ed7953"
             ],
             [
              0.7777777777777778,
              "#fb9f3a"
             ],
             [
              0.8888888888888888,
              "#fdca26"
             ],
             [
              1,
              "#f0f921"
             ]
            ],
            "type": "histogram2dcontour"
           }
          ],
          "mesh3d": [
           {
            "colorbar": {
             "outlinewidth": 0,
             "ticks": ""
            },
            "type": "mesh3d"
           }
          ],
          "parcoords": [
           {
            "line": {
             "colorbar": {
              "outlinewidth": 0,
              "ticks": ""
             }
            },
            "type": "parcoords"
           }
          ],
          "pie": [
           {
            "automargin": true,
            "type": "pie"
           }
          ],
          "scatter": [
           {
            "fillpattern": {
             "fillmode": "overlay",
             "size": 10,
             "solidity": 0.2
            },
            "type": "scatter"
           }
          ],
          "scatter3d": [
           {
            "line": {
             "colorbar": {
              "outlinewidth": 0,
              "ticks": ""
             }
            },
            "marker": {
             "colorbar": {
              "outlinewidth": 0,
              "ticks": ""
             }
            },
            "type": "scatter3d"
           }
          ],
          "scattercarpet": [
           {
            "marker": {
             "colorbar": {
              "outlinewidth": 0,
              "ticks": ""
             }
            },
            "type": "scattercarpet"
           }
          ],
          "scattergeo": [
           {
            "marker": {
             "colorbar": {
              "outlinewidth": 0,
              "ticks": ""
             }
            },
            "type": "scattergeo"
           }
          ],
          "scattergl": [
           {
            "marker": {
             "colorbar": {
              "outlinewidth": 0,
              "ticks": ""
             }
            },
            "type": "scattergl"
           }
          ],
          "scattermap": [
           {
            "marker": {
             "colorbar": {
              "outlinewidth": 0,
              "ticks": ""
             }
            },
            "type": "scattermap"
           }
          ],
          "scattermapbox": [
           {
            "marker": {
             "colorbar": {
              "outlinewidth": 0,
              "ticks": ""
             }
            },
            "type": "scattermapbox"
           }
          ],
          "scatterpolar": [
           {
            "marker": {
             "colorbar": {
              "outlinewidth": 0,
              "ticks": ""
             }
            },
            "type": "scatterpolar"
           }
          ],
          "scatterpolargl": [
           {
            "marker": {
             "colorbar": {
              "outlinewidth": 0,
              "ticks": ""
             }
            },
            "type": "scatterpolargl"
           }
          ],
          "scatterternary": [
           {
            "marker": {
             "colorbar": {
              "outlinewidth": 0,
              "ticks": ""
             }
            },
            "type": "scatterternary"
           }
          ],
          "surface": [
           {
            "colorbar": {
             "outlinewidth": 0,
             "ticks": ""
            },
            "colorscale": [
             [
              0,
              "#0d0887"
             ],
             [
              0.1111111111111111,
              "#46039f"
             ],
             [
              0.2222222222222222,
              "#7201a8"
             ],
             [
              0.3333333333333333,
              "#9c179e"
             ],
             [
              0.4444444444444444,
              "#bd3786"
             ],
             [
              0.5555555555555556,
              "#d8576b"
             ],
             [
              0.6666666666666666,
              "#ed7953"
             ],
             [
              0.7777777777777778,
              "#fb9f3a"
             ],
             [
              0.8888888888888888,
              "#fdca26"
             ],
             [
              1,
              "#f0f921"
             ]
            ],
            "type": "surface"
           }
          ],
          "table": [
           {
            "cells": {
             "fill": {
              "color": "#EBF0F8"
             },
             "line": {
              "color": "white"
             }
            },
            "header": {
             "fill": {
              "color": "#C8D4E3"
             },
             "line": {
              "color": "white"
             }
            },
            "type": "table"
           }
          ]
         },
         "layout": {
          "annotationdefaults": {
           "arrowcolor": "#2a3f5f",
           "arrowhead": 0,
           "arrowwidth": 1
          },
          "autotypenumbers": "strict",
          "coloraxis": {
           "colorbar": {
            "outlinewidth": 0,
            "ticks": ""
           }
          },
          "colorscale": {
           "diverging": [
            [
             0,
             "#8e0152"
            ],
            [
             0.1,
             "#c51b7d"
            ],
            [
             0.2,
             "#de77ae"
            ],
            [
             0.3,
             "#f1b6da"
            ],
            [
             0.4,
             "#fde0ef"
            ],
            [
             0.5,
             "#f7f7f7"
            ],
            [
             0.6,
             "#e6f5d0"
            ],
            [
             0.7,
             "#b8e186"
            ],
            [
             0.8,
             "#7fbc41"
            ],
            [
             0.9,
             "#4d9221"
            ],
            [
             1,
             "#276419"
            ]
           ],
           "sequential": [
            [
             0,
             "#0d0887"
            ],
            [
             0.1111111111111111,
             "#46039f"
            ],
            [
             0.2222222222222222,
             "#7201a8"
            ],
            [
             0.3333333333333333,
             "#9c179e"
            ],
            [
             0.4444444444444444,
             "#bd3786"
            ],
            [
             0.5555555555555556,
             "#d8576b"
            ],
            [
             0.6666666666666666,
             "#ed7953"
            ],
            [
             0.7777777777777778,
             "#fb9f3a"
            ],
            [
             0.8888888888888888,
             "#fdca26"
            ],
            [
             1,
             "#f0f921"
            ]
           ],
           "sequentialminus": [
            [
             0,
             "#0d0887"
            ],
            [
             0.1111111111111111,
             "#46039f"
            ],
            [
             0.2222222222222222,
             "#7201a8"
            ],
            [
             0.3333333333333333,
             "#9c179e"
            ],
            [
             0.4444444444444444,
             "#bd3786"
            ],
            [
             0.5555555555555556,
             "#d8576b"
            ],
            [
             0.6666666666666666,
             "#ed7953"
            ],
            [
             0.7777777777777778,
             "#fb9f3a"
            ],
            [
             0.8888888888888888,
             "#fdca26"
            ],
            [
             1,
             "#f0f921"
            ]
           ]
          },
          "colorway": [
           "#636efa",
           "#EF553B",
           "#00cc96",
           "#ab63fa",
           "#FFA15A",
           "#19d3f3",
           "#FF6692",
           "#B6E880",
           "#FF97FF",
           "#FECB52"
          ],
          "font": {
           "color": "#2a3f5f"
          },
          "geo": {
           "bgcolor": "white",
           "lakecolor": "white",
           "landcolor": "white",
           "showlakes": true,
           "showland": true,
           "subunitcolor": "#C8D4E3"
          },
          "hoverlabel": {
           "align": "left"
          },
          "hovermode": "closest",
          "mapbox": {
           "style": "light"
          },
          "paper_bgcolor": "white",
          "plot_bgcolor": "white",
          "polar": {
           "angularaxis": {
            "gridcolor": "#EBF0F8",
            "linecolor": "#EBF0F8",
            "ticks": ""
           },
           "bgcolor": "white",
           "radialaxis": {
            "gridcolor": "#EBF0F8",
            "linecolor": "#EBF0F8",
            "ticks": ""
           }
          },
          "scene": {
           "xaxis": {
            "backgroundcolor": "white",
            "gridcolor": "#DFE8F3",
            "gridwidth": 2,
            "linecolor": "#EBF0F8",
            "showbackground": true,
            "ticks": "",
            "zerolinecolor": "#EBF0F8"
           },
           "yaxis": {
            "backgroundcolor": "white",
            "gridcolor": "#DFE8F3",
            "gridwidth": 2,
            "linecolor": "#EBF0F8",
            "showbackground": true,
            "ticks": "",
            "zerolinecolor": "#EBF0F8"
           },
           "zaxis": {
            "backgroundcolor": "white",
            "gridcolor": "#DFE8F3",
            "gridwidth": 2,
            "linecolor": "#EBF0F8",
            "showbackground": true,
            "ticks": "",
            "zerolinecolor": "#EBF0F8"
           }
          },
          "shapedefaults": {
           "line": {
            "color": "#2a3f5f"
           }
          },
          "ternary": {
           "aaxis": {
            "gridcolor": "#DFE8F3",
            "linecolor": "#A2B1C6",
            "ticks": ""
           },
           "baxis": {
            "gridcolor": "#DFE8F3",
            "linecolor": "#A2B1C6",
            "ticks": ""
           },
           "bgcolor": "white",
           "caxis": {
            "gridcolor": "#DFE8F3",
            "linecolor": "#A2B1C6",
            "ticks": ""
           }
          },
          "title": {
           "x": 0.05
          },
          "xaxis": {
           "automargin": true,
           "gridcolor": "#EBF0F8",
           "linecolor": "#EBF0F8",
           "ticks": "",
           "title": {
            "standoff": 15
           },
           "zerolinecolor": "#EBF0F8",
           "zerolinewidth": 2
          },
          "yaxis": {
           "automargin": true,
           "gridcolor": "#EBF0F8",
           "linecolor": "#EBF0F8",
           "ticks": "",
           "title": {
            "standoff": 15
           },
           "zerolinecolor": "#EBF0F8",
           "zerolinewidth": 2
          }
         }
        },
        "title": {
         "font": {
          "color": "Black",
          "size": 22
         },
         "text": "<b>Hierarchical Clustering</b>",
         "x": 0.5,
         "xanchor": "center",
         "yanchor": "top"
        },
        "width": 1000,
        "xaxis": {
         "mirror": "allticks",
         "rangemode": "tozero",
         "showgrid": false,
         "showline": true,
         "showticklabels": true,
         "ticks": "outside",
         "type": "linear",
         "zeroline": false
        },
        "yaxis": {
         "mirror": "allticks",
         "range": [
          -320,
          0
         ],
         "rangemode": "tozero",
         "showgrid": false,
         "showline": true,
         "showticklabels": true,
         "tickmode": "array",
         "ticks": "outside",
         "ticktext": [
          "28_thank thank_thank_thank ...",
          "19_thank_thank thank_thank ...",
          "9_thank consideration_grate...",
          "22_damaged books_books old_...",
          "8_purchase books_outdoor li...",
          "26_school library_offer lib...",
          "18_chairs_seating children_...",
          "15_calming environment_spac...",
          "6_children access_area chil...",
          "12_outdoor eyfs_outdoors ey...",
          "7_learning twinklâ_write tw...",
          "10_maths resources_maths le...",
          "3_science develop_making sc...",
          "0_support children_money_fu...",
          "1_sensory garden_garden chi...",
          "13_healthy food_learn nutri...",
          "21_forest school_build fore...",
          "31_school equipment_classro...",
          "24_nature equipment_supplie...",
          "30_develop musical_music le...",
          "17_climbing frame_climbing ...",
          "27_classroom use_outdoor cl...",
          "16_new resources_resources ...",
          "4_pencils equipment_crafts_...",
          "25_support classroom_suppor...",
          "11_children laptops_school ...",
          "14_ipads technology_ipads p...",
          "2_charity preschool_prescho...",
          "29_2026 schools_school 2026...",
          "5_money gratefully_receive ...",
          "23_water pond_wildlife pond...",
          "20_yng nghymru_ysgol dderi_..."
         ],
         "tickvals": [
          -5,
          -15,
          -25,
          -35,
          -45,
          -55,
          -65,
          -75,
          -85,
          -95,
          -105,
          -115,
          -125,
          -135,
          -145,
          -155,
          -165,
          -175,
          -185,
          -195,
          -205,
          -215,
          -225,
          -235,
          -245,
          -255,
          -265,
          -275,
          -285,
          -295,
          -305,
          -315
         ],
         "type": "linear",
         "zeroline": false
        }
       }
      },
      "image/png": "[encoded data removed]"
     },
     "metadata": {},
     "output_type": "display_data"
    }
   ],
   "source": [
    "topic_model.visualize_hierarchy()"
   ]
  },
  {
   "cell_type": "code",
   "execution_count": 87,
   "id": "ae784010-b635-4d51-9d6e-60b25f31c201",
   "metadata": {},
   "outputs": [
    {
     "name": "stderr",
     "output_type": "stream",
     "text": [
      "100%|████████████████████████████████████████████████████████████████| 33/33 [00:25<00:00,  1.30it/s]\n"
     ]
    }
   ],
   "source": [
    "client = openai.OpenAI(api_key=OPENAI_API_KEY)\n",
    "prompt = \"\"\"\n",
    "This topic contains the following documents:\n",
    "[DOCUMENTS]\n",
    "\n",
    "The topic is described by the following keywords: [KEYWORDS]\n",
    "\n",
    "Based on the information above, extract a short yet descriptive topic label.\n",
    "\"\"\"\n",
    "openai_model = OpenAI(\n",
    "    client,\n",
    "    model=\"gpt-4.1-nano\",\n",
    "    exponential_backoff=True,\n",
    "    chat=True,\n",
    "    prompt=prompt,\n",
    "    system_prompt=\n",
    "    \"\"\"\n",
    "**Task**: As a topic modeling expert, your responsibility is to generate concise yet comprehensive topic labels from rows in a BertTopic `topic_info` dataframe. These topics have been derived from grant application forms submitted by schools, tutors, or other institutions participating in Twinkl giveaways.\n",
    "\n",
    "**Objective**: Your goal is to create labels for the extracted topics that accurately and clearly describe each topic within the specified context. These labels should be easily interpretable by the members of the Community Collections team.\n",
    "\n",
    "**Instructions**:\n",
    "\n",
    "1. **Understand the Context**: The topics relate to grant applications and are relevant to educational institutions participating in Twinkl giveaways.\n",
    "\n",
    "2. **Generate Labels**:\n",
    "    - Create labels that are short yet capture the essence of each topic.\n",
    "    - Ensure that the labels are contextually appropriate and provide clarity.\n",
    "    - Focus on making the labels easily understandable for the Community Collections team.\n",
    "\n",
    "3. **Considerations**:\n",
    "    - Each label should succinctly convey the main idea of the topic.\n",
    "    - Avoid overly technical language unless necessary for precision.\n",
    "    - Ensure the labels align with the overall educational and grant-related context.\n",
    "    \"\"\"\n",
    ")\n",
    "    \n",
    "\n",
    "representation_model = {\n",
    "    \"Main\": KeyBERTInspired(),\n",
    "    \"Secondary Representation\": MaximalMarginalRelevance(diversity=0.3),\n",
    "    \"OpenAI\": openai_model\n",
    "}\n",
    "\n",
    "vectorizer_model = CountVectorizer(ngram_range=(1,2))\n",
    "\n",
    "topic_model.update_topics(sentences, representation_model=representation_model, vectorizer_model=vectorizer_model)"
   ]
  },
  {
   "cell_type": "code",
   "execution_count": 88,
   "id": "b967792c-4119-4df1-8bf8-26f2d3932800",
   "metadata": {},
   "outputs": [
    {
     "data": {
      "text/html": [
       "<div>\n",
       "<style scoped>\n",
       "    .dataframe tbody tr th:only-of-type {\n",
       "        vertical-align: middle;\n",
       "    }\n",
       "\n",
       "    .dataframe tbody tr th {\n",
       "        vertical-align: top;\n",
       "    }\n",
       "\n",
       "    .dataframe thead th {\n",
       "        text-align: right;\n",
       "    }\n",
       "</style>\n",
       "<table border=\"1\" class=\"dataframe\">\n",
       "  <thead>\n",
       "    <tr style=\"text-align: right;\">\n",
       "      <th></th>\n",
       "      <th>Topic</th>\n",
       "      <th>Count</th>\n",
       "      <th>Name</th>\n",
       "      <th>Representation</th>\n",
       "      <th>Secondary Representation</th>\n",
       "      <th>OpenAI</th>\n",
       "      <th>Representative_Docs</th>\n",
       "    </tr>\n",
       "  </thead>\n",
       "  <tbody>\n",
       "    <tr>\n",
       "      <th>0</th>\n",
       "      <td>-1</td>\n",
       "      <td>1279</td>\n",
       "      <td>-1_children_children to_funding_the children</td>\n",
       "      <td>[children, children to, funding, the children, our children, provision, money, provide, our school, resources]</td>\n",
       "      <td>[to, our, for, children, are, school, resources, support, we would, students]</td>\n",
       "      <td>[Early Childhood Learning Resources and Sensory Areas]</td>\n",
       "      <td>[We would use this money to buy resources that help develop the children's literacy and numeracy skills, especially in our outdoor environment., I would like to buy equipment and resources to help develop theses skills and help to support these children to develop in order for them to thrive in the future., Buy resources to support learning]</td>\n",
       "    </tr>\n",
       "    <tr>\n",
       "      <th>1</th>\n",
       "      <td>0</td>\n",
       "      <td>1271</td>\n",
       "      <td>0_funding_resources to_money_develop</td>\n",
       "      <td>[funding, resources to, money, develop, resources, money to, our school, the money, we would, our children]</td>\n",
       "      <td>[our, children, for, school, sensory, support, resources, we would, be, needs]</td>\n",
       "      <td>[Outdoor and Sensory Learning Resources for Children]</td>\n",
       "      <td>[We would use this money to buy sensory equipment for our Nurture provision., We would use any money to support our children in developing their outdoor space., We have a high number of pupils in foundation phase with additional sensory needs, we would use the money to get resources to support these pupils]</td>\n",
       "    </tr>\n",
       "    <tr>\n",
       "      <th>2</th>\n",
       "      <td>1</td>\n",
       "      <td>153</td>\n",
       "      <td>1_sensory garden_garden for_garden_gardening</td>\n",
       "      <td>[sensory garden, garden for, garden, gardening, our garden, garden and, the garden, planting, plants, plants and]</td>\n",
       "      <td>[garden, plants, sensory garden, grow, garden for, gardening, planters, seeds, kitchen, vegetables]</td>\n",
       "      <td>[Sensory Garden and Outdoor Play Development]</td>\n",
       "      <td>[Our Japanese garden needs transforming into a sensory garden for our children with SEN., We would very much like to make a sensory garden for the children to enjoy!, We would love some plants to create a sensory garden for the under 2's.]</td>\n",
       "    </tr>\n",
       "    <tr>\n",
       "      <th>3</th>\n",
       "      <td>2</td>\n",
       "      <td>54</td>\n",
       "      <td>2_our nursery_nursery setting_nursery_new nursery</td>\n",
       "      <td>[our nursery, nursery setting, nursery, new nursery, nursery in, charity preschool, nursery and, the nursery, preschool, preschool in]</td>\n",
       "      <td>[nursery, we are, are, preschool, are small, our, nursery in, our nursery, children aged, small charity]</td>\n",
       "      <td>[Small Charity and Community Nurseries in Somerset and Barnsley]</td>\n",
       "      <td>[Our charity preschool, proudly serving the community for over 40 years, is dedicated to providing a safe, nurturing, and inspiring environment for young children to learn, grow, and thrive., We are a small charity run community nursery in Elsecar, Barnsley., We are a small charity run preschool in a small village in Somerset, we only have 17 children on the register (which is quite busy for us!)]</td>\n",
       "    </tr>\n",
       "    <tr>\n",
       "      <th>4</th>\n",
       "      <td>3</td>\n",
       "      <td>53</td>\n",
       "      <td>3_funding would_funding_this funding_scientists</td>\n",
       "      <td>[funding would, funding, this funding, scientists, science experiences, science and, scientific, and science, science, for stem]</td>\n",
       "      <td>[science, stem, funding, funding would, this funding, problem solving, real world, develop, investigations, science equipment]</td>\n",
       "      <td>[STEM Education and Science Funding]</td>\n",
       "      <td>[This funding would bring science to life fostering curiosity, creativity and problem solving skills through real world nature based learning., Your funding would ensure all our pupils, regardless of background, can experience the excitement of real-world science and develop a lifelong love for STEM with some extra funding., Your funding would ensure all our pupils, regardless of background, can experience the excitement of real-world science and develop a lifelong love for STEM with some ex...</td>\n",
       "    </tr>\n",
       "    <tr>\n",
       "      <th>5</th>\n",
       "      <td>4</td>\n",
       "      <td>43</td>\n",
       "      <td>4_pencils also_and pencils_crafts_pencils and</td>\n",
       "      <td>[pencils also, and pencils, crafts, pencils and, art supplies, pencils, glue sticks, pens pencils, supplies, and craft]</td>\n",
       "      <td>[glue, pencils, glue sticks, pens pencils, paper, stationery, supplies, pencils and, craft materials, sticks pens]</td>\n",
       "      <td>[Art Supplies and Educational Materials]</td>\n",
       "      <td>[Then with any left over money I would buy basic supplies like glue sticks, paper, coloured paper, pens and pencils, as money is very tight!, Aswell as stationery like glue sticks, pens, pencils and colouring pencils\\nAlso equipment to help to support SEND children with motor skills!, Aswell as stationery like glue sticks, pens, pencils and colouring pencils\\nAlso equipment to help to support SEND children with motor skills!]</td>\n",
       "    </tr>\n",
       "    <tr>\n",
       "      <th>6</th>\n",
       "      <td>5</td>\n",
       "      <td>32</td>\n",
       "      <td>5_funding would_funding_money would_this funding</td>\n",
       "      <td>[funding would, funding, money would, this funding, we would, the funding, help us, this would, this money, money]</td>\n",
       "      <td>[money, money would, be, this money, would be, funding, towards, consider us, two sites, gratefully received]</td>\n",
       "      <td>[Funding Requests and Financial Support for School Projects]</td>\n",
       "      <td>[Any money we receive will be very gratefully received., The money would be so gratefully received and have a big impact., We would dearly love to update our history artefacts and our globes and atlases to help enrich our history and geography lessons.]</td>\n",
       "    </tr>\n",
       "    <tr>\n",
       "      <th>7</th>\n",
       "      <td>6</td>\n",
       "      <td>32</td>\n",
       "      <td>6_children live_have gardens_children_children do</td>\n",
       "      <td>[children live, have gardens, children, children do, being outdoors, children to, outdoors, outdoors but, deprived area, the children]</td>\n",
       "      <td>[area, gardens, outdoors, children live, have gardens, in flats, outside space, home, deprived, have access]</td>\n",
       "      <td>[Limited Outdoor Access and Play Resources for Children]</td>\n",
       "      <td>[Most of our children live in flats, often in cramped conditions and no access to the outdoors., Two thirds of our pre-school children live in flats with little or no access to an outside play area., We have a lot of children in our cohort who don't have access to an outside space at home]</td>\n",
       "    </tr>\n",
       "    <tr>\n",
       "      <th>8</th>\n",
       "      <td>7</td>\n",
       "      <td>31</td>\n",
       "      <td>7_twinkl maths_using twinkl_use twinkl_twinkl</td>\n",
       "      <td>[twinkl maths, using twinkl, use twinkl, twinkl, twinkl to, the twinkl, from twinkl, with twinkl, to twinkl, twinklâ]</td>\n",
       "      <td>[twinkl, use twinkl, from twinkl, twinklâ, the twinkl, using twinkl, twinkl maths, twinkl to, be life, love using]</td>\n",
       "      <td>[Homeschooling and Classroom Use of Twinkl Resources]</td>\n",
       "      <td>[We would love to purchase some headphones with an attached microphone to allow them to use dictate to text, meaning their ideas can be shared without the fear or block of needing to write them down., Dear Team Twinkl,\\nThe Disraeli School in High Wycombe: a thriving 3 form primary school with brilliant, very dedicated staff and inspiring co-Headteachers., Both myself and my year group partner teacher are absolutely loving the Twinkl Original books for our reading sessions as they compliment...</td>\n",
       "    </tr>\n",
       "    <tr>\n",
       "      <th>9</th>\n",
       "      <td>8</td>\n",
       "      <td>28</td>\n",
       "      <td>8_outdoor library_books for_outdoor reading_books</td>\n",
       "      <td>[outdoor library, books for, outdoor reading, books, of books, book, engaging books, the library, books and, books to]</td>\n",
       "      <td>[500, books, reading, library, the 500, books to, 500 to, welsh, 500 would, storage]</td>\n",
       "      <td>[School Reading and Literacy Enhancements]</td>\n",
       "      <td>[This would be used to develop our reading areas with an outdoor reading shed in eyfs - we invite parents to share a book before school and would like to purchase beanbags, crates and punting to enhance this area., I would like to create an outdoor reading area for my SEN school so the money would used to provide suitable weather proof book storage and books., If our school won Â£500, it would be split so that we could use Â£250 towards new books and items for our new reading retreat, and th...</td>\n",
       "    </tr>\n",
       "    <tr>\n",
       "      <th>10</th>\n",
       "      <td>9</td>\n",
       "      <td>28</td>\n",
       "      <td>9_consideration thank_thanks for_your consideration_considered thank</td>\n",
       "      <td>[consideration thank, thanks for, your consideration, considered thank, time thank, appreciate you, opportunity thank, thank you, consideration, thank]</td>\n",
       "      <td>[for considering, your consideration, consideration thank, opportunity to, giving, us thank, many thanks, thanks for, opportunity thank, your time]</td>\n",
       "      <td>[Gratitude and Appreciation for Grant Opportunities]</td>\n",
       "      <td>[Thank you for your consideration., Thank you for your consideration., Thank you for your consideration.]</td>\n",
       "    </tr>\n",
       "    <tr>\n",
       "      <th>11</th>\n",
       "      <td>10</td>\n",
       "      <td>27</td>\n",
       "      <td>10_maths resources_maths and_resources for_maths more</td>\n",
       "      <td>[maths resources, maths and, resources for, maths more, more maths, maths, resources, math, maths to, in maths]</td>\n",
       "      <td>[maths, maths resources, in maths, math, resources for, more maths, scales, numeracy, learners, number recognition]</td>\n",
       "      <td>[Maths Resources and Manipulatives for Student Learning]</td>\n",
       "      <td>[We are looking to buy more Maths resources for EYFS, KS1 and KS2, including books with stories in maths, I would also love to buy more maths resources for counting and number recognition to be able to develop the childrenâ€™s understanding of maths and enabling them to become school ready., We would like the money for hands on Maths resources - 2d shapes and 3d shapes for ks1 and ks2 to use in Maths lessons and weighing scales for use in Maths across the school.]</td>\n",
       "    </tr>\n",
       "    <tr>\n",
       "      <th>12</th>\n",
       "      <td>11</td>\n",
       "      <td>27</td>\n",
       "      <td>11_computing skills_digital skills_technology to_laptops</td>\n",
       "      <td>[computing skills, digital skills, technology to, laptops, grandchildrenâ school, daily teaching, curriculum lessons, technology, the laptops, laptops to]</td>\n",
       "      <td>[laptops, technology, todayâ world, computing skills, laptops to, the laptops, gaps in, computing and, curriculum, learn]</td>\n",
       "      <td>[Technology and Computing Resources for Student Learning]</td>\n",
       "      <td>[We have very little technology to use with our SEN children and desperately need interactive resources where the children can learn to type, voice record and photograph evidence of their learning., We need to upgrade 35 children's laptops in September as our current laptops won't meet a software update., Working laptops for children to learn the basic Computing skills in KS1 curriculum.]</td>\n",
       "    </tr>\n",
       "    <tr>\n",
       "      <th>13</th>\n",
       "      <td>12</td>\n",
       "      <td>26</td>\n",
       "      <td>12_eyfs outside_eyfs area_outdoor provision_outdoor learning</td>\n",
       "      <td>[eyfs outside, eyfs area, outdoor provision, outdoor learning, eyfs children, the eyfs, our eyfs, eyfs, in eyfs, eyfs our]</td>\n",
       "      <td>[our eyfs, eyfs area, in eyfs, outside, outdoor area, ks1, our outdoor, improve, play, moved to]</td>\n",
       "      <td>[EYFS Outdoor Learning and Play Space Development]</td>\n",
       "      <td>[We are currently trying to revamp our small EYFS outside area, to encourage outdoor learning and foster a love of the outdoors in our children., I have recently moved to EYFS and as a team, we are trying to develop our EYFS classrooms., Our EYFS team and I have been trying to develop building areas, sensory kitchens, source resources for those areas and outdoor water play and small world areas.]</td>\n",
       "    </tr>\n",
       "    <tr>\n",
       "      <th>14</th>\n",
       "      <td>13</td>\n",
       "      <td>26</td>\n",
       "      <td>13_healthy food_good nutrition_healthy eating_nutrition and</td>\n",
       "      <td>[healthy food, good nutrition, healthy eating, nutrition and, nutrition, food, eating, healthy, cooking, eating and]</td>\n",
       "      <td>[food, gardening club, cooking, healthy eating, gardening, school, healthy food, nutrition and, cuisines, good nutrition]</td>\n",
       "      <td>[Healthy Eating and Gardening Initiatives]</td>\n",
       "      <td>[Healthy Eating: Students learn about nutrition and the importance of balanced diets, encouraging healthier food choices., As well as teaching an important life skill we aim to instill a love and joy for good healthy food and help the children to understand the importance of good nutrition., Healthy eating project - I would love to be able to cook with the children in our school to encourage healthy eating and a healthy attitude towards food.]</td>\n",
       "    </tr>\n",
       "    <tr>\n",
       "      <th>15</th>\n",
       "      <td>14</td>\n",
       "      <td>21</td>\n",
       "      <td>14_ipads technology_new ipads_10 ipads_ipads</td>\n",
       "      <td>[ipads technology, new ipads, 10 ipads, ipads, ipads our, ipads we, ipads to, with ipads, ipads can, ipads so]</td>\n",
       "      <td>[ipads, new ipads, ipads to, projector, ipads can, 10 ipads, classes the, ports, charging, ipads we]</td>\n",
       "      <td>[Technology and Digital Resources for Learning]</td>\n",
       "      <td>[Also tech gadgets like a portable laptop for me to do my Phonics Lead work, and a small reasonable user friendly projector for Power Point presentations for example, Twinkl Phonics, special weeks and days., Our current one is old and the charging ports don't all work meaning we have to charge 10 ipads with 4 working ports., We will be raising money to update our computing provision including the computing suite and new ipads so they are suitable for children to use for their computing curri...</td>\n",
       "    </tr>\n",
       "    <tr>\n",
       "      <th>16</th>\n",
       "      <td>15</td>\n",
       "      <td>18</td>\n",
       "      <td>15_calming environment_calming resources_for calming_calming</td>\n",
       "      <td>[calming environment, calming resources, for calming, calming, cabin room, fosters relaxation, and calming, room, gentler children, peaceful space]</td>\n",
       "      <td>[calming, room, children, cabin room, calming resources, calming environment, this room, and calming, relaxation, quiet]</td>\n",
       "      <td>[Calming Spaces and Sensory Rooms for Emotional Support]</td>\n",
       "      <td>[This mini project would support many of the children within the school in offering a calming space to enable children to regulate in a safe and calming manner., This calm, quiet area would feature a variety of sensory experiences, like soothing sounds and different textures, all aimed at stimulating their interests and supporting their emotional wellbeing., This room is used a lot and we need to develop a corner of the room to provide more space for calming activities and dysregulation for ...</td>\n",
       "    </tr>\n",
       "    <tr>\n",
       "      <th>17</th>\n",
       "      <td>16</td>\n",
       "      <td>18</td>\n",
       "      <td>16_little resources_our resources_resources are_resources we</td>\n",
       "      <td>[little resources, our resources, resources are, resources we, resources have, new resources, of resources, the resources, resources, our lack]</td>\n",
       "      <td>[resources, resources we, new resources, to lack, of resources, resources have, due, our resources, resources are, the resources]</td>\n",
       "      <td>[Science Equipment and Resource Shortages]</td>\n",
       "      <td>[It also highlighted our lack of science experiment resource, and how some of resources are worn and tired or broken now., We also need additional equipment for our classrooms and our curriculum, we lack the basic resources like books that are needed for the curriculum, we are buying them out of our own pockets., We need any extra money we can to buy new resources for different subjects e.g. art supplies, Maths equipment, science resources.]</td>\n",
       "    </tr>\n",
       "    <tr>\n",
       "      <th>18</th>\n",
       "      <td>17</td>\n",
       "      <td>17</td>\n",
       "      <td>17_climbing frame_climbing_new climbing_or climbing</td>\n",
       "      <td>[climbing frame, climbing, new climbing, or climbing, ks2 climbing, bikes, bikes and, physical development, new bikes, and scooters]</td>\n",
       "      <td>[bikes, climbing frame, bikes and, bike, bikes to, bike storage, helmets, new bikes, scooters, physical development]</td>\n",
       "      <td>[Outdoor Play Equipment and Storage Improvements]</td>\n",
       "      <td>[Meanwhile, the Green Roomâ€™s climbing frame is too small for older children, limiting their physical play., As a hands-on, DIY-orientated team, we would build a new climbing frame ourselvesâ€”just as we did for our other roomâ€”maximizing the impact of your support., If we won the competition, the children would love a new climbing frame for the outdoor area, a sensory wall, and new bikes and scooters.]</td>\n",
       "    </tr>\n",
       "    <tr>\n",
       "      <th>19</th>\n",
       "      <td>18</td>\n",
       "      <td>17</td>\n",
       "      <td>18_chairs_seating_new chairs_the chairs</td>\n",
       "      <td>[chairs, seating, new chairs, the chairs, lower chairs, comfy seating, seating or, library area, new desks, sit]</td>\n",
       "      <td>[comfortable, chairs, seating, books, comfy seating, more comfortable, seating or, some comfy, library area, children can]</td>\n",
       "      <td>[Reading and Library Seating Improvements]</td>\n",
       "      <td>[We would spend the money on some comfy seating for our library area, alongside some suitable storage for our wide rage of exciting books and stories., We could really do with some seating areas in library, We currently have a few stools but would be good to have some more comfortable seating so the children can relax and really enjoy their reading., I have a very old lab and my older student cannot fit under the wooden desk as the chairs are to high, management just tells me there is not en...</td>\n",
       "    </tr>\n",
       "    <tr>\n",
       "      <th>20</th>\n",
       "      <td>19</td>\n",
       "      <td>16</td>\n",
       "      <td>19_thank you_thankyou_thanks_thank</td>\n",
       "      <td>[thank you, thankyou, thanks, thank, thanks thank, you thankyou, kind regards, thankyou thank, you thank, regards thank]</td>\n",
       "      <td>[thank, thankyou thank, you thankyou, you kind, you thanks, thankyou, kind regards, you so, much, so]</td>\n",
       "      <td>[Expressing Gratitude]</td>\n",
       "      <td>[Thank you., Thank you., Thank you.]</td>\n",
       "    </tr>\n",
       "    <tr>\n",
       "      <th>21</th>\n",
       "      <td>20</td>\n",
       "      <td>15</td>\n",
       "      <td>20_yng nghymru_ysgol dderi_trãªn newydd_nghymru mae</td>\n",
       "      <td>[yng nghymru, ysgol dderi, trãªn newydd, nghymru mae, wedi pydru, bydd rhaid, newydd plant, mae gyda, yng ngheredigion, mae trãªn]</td>\n",
       "      <td>[mae trãªn, ysgol, plant, plant bach, oed sy, nghymru mae, pydru bydd, plant gydag, plantos, pren wedi]</td>\n",
       "      <td>[School Transportation and Support for Young Children]</td>\n",
       "      <td>[gael yng Nghymru, mae'r trÃªn bellach wedi pydru a bydd rhaid iddo fynd., Mae gyda ni cant o ddisgyblion ar y gofrestr gydag uned feithrin lle mae trÃªn pren wedi bod ers blynyddoedd lawer., Byddai hyn yn gwneud plantos bach tair a phedair oed sy'n cynnwys plant gydag anghenion dysgu ychwanegol y dosbarth yn hapus iawn.]</td>\n",
       "    </tr>\n",
       "    <tr>\n",
       "      <th>22</th>\n",
       "      <td>21</td>\n",
       "      <td>15</td>\n",
       "      <td>21_forest school_develop forest_accessible forest_forest</td>\n",
       "      <td>[forest school, develop forest, accessible forest, forest, have forest, outdoor learning, the forest, in forest, our forest, our woodland]</td>\n",
       "      <td>[forest school, forest, school area, our forest, develop forest, up forest, wildlife, develop, outdoor space, area we]</td>\n",
       "      <td>[Forest School Development and Outdoor Learning]</td>\n",
       "      <td>[We would love to set up a forest school area on our field to enhance the current outdoor provision., We have a long term plan to turn our setting into a Forest School and our first step is to transform our current outdoor space so that it truly reflects the Forest School ethos., We are very lucky to have a forest school area in our school.]</td>\n",
       "    </tr>\n",
       "    <tr>\n",
       "      <th>23</th>\n",
       "      <td>22</td>\n",
       "      <td>15</td>\n",
       "      <td>22_damaged books_reused books_books_many books</td>\n",
       "      <td>[damaged books, reused books, books, many books, books are, new books, the books, books from, new library, the shelves]</td>\n",
       "      <td>[books, books are, damaged books, 30 years, are old, falling, new library, the books, which we, new books]</td>\n",
       "      <td>[Damaged and Aging Library Resources]</td>\n",
       "      <td>[We have damaged books, some of which have been in the collection for 30 years and some of which we have had to bin because they are mouldy!, We have recently revamped our school Äºibrary which involved shedding lots of outdated and damaged books., New reading books that are not falling apart, most of the books are old and have been donated or are second if not third and fourth hand.]</td>\n",
       "    </tr>\n",
       "    <tr>\n",
       "      <th>24</th>\n",
       "      <td>23</td>\n",
       "      <td>14</td>\n",
       "      <td>23_wildlife pond_pond dipping_pond_pond area</td>\n",
       "      <td>[wildlife pond, pond dipping, pond, pond area, pond which, pond liner, pond for, the pond, pond the, for pond]</td>\n",
       "      <td>[pond, the pond, pond dipping, pond and, for pond, pond as, encourage wildlife, wildlife pond, newts in, noah]</td>\n",
       "      <td>[School Pond Enhancement and Wildlife Exploration]</td>\n",
       "      <td>[We have just had some help from parents to restore our school pond and would love to encourage the children to use it for pond dipping., The impact would be happier and a wider range of animals in the pond, so pond dipping during Forest School sessions would be more exciting for the children as they would be more likely to catch something., We were hoping to install some walkways so help children assess the pond for pond dipping to help with education.]</td>\n",
       "    </tr>\n",
       "    <tr>\n",
       "      <th>25</th>\n",
       "      <td>24</td>\n",
       "      <td>13</td>\n",
       "      <td>24_supplies please_including wooden_fire pit_fire area</td>\n",
       "      <td>[supplies please, including wooden, fire pit, fire area, natural equipment, play kits, kitchens and, growing kits, equipment, and chalks]</td>\n",
       "      <td>[equipment, boards and, fire pit, trays, mud, kits, set up, we would, including, kelly kettle]</td>\n",
       "      <td>[Outdoor Play Equipment and Fire Safety Needs]</td>\n",
       "      <td>[We are also in desperate need of a fire pit (Â£100) and would love to able to celebrate by inviting children to cook if we have money to buy resources., We would like to include creative equipment such as bug houses, sand, water and mud trays, chalk boards and soft play equipment to stimulate imagination., We would love to set up a fire area and we need a fire pit, flint rod, kelly kettle as well as fire safety equipment such as a bucket, sand and fire blanket.]</td>\n",
       "    </tr>\n",
       "    <tr>\n",
       "      <th>26</th>\n",
       "      <td>25</td>\n",
       "      <td>12</td>\n",
       "      <td>25_enabling students_educational supplies_support classroom_students package</td>\n",
       "      <td>[enabling students, educational supplies, support classroom, students package, essential educational, making lessons, learners, our learners, learning environment, comfortable learning]</td>\n",
       "      <td>[learners, supplies, support, would, the learning, journey, learning environment, our learners, teachers who, making lessons]</td>\n",
       "      <td>[Educational Support and Resources for Learners]</td>\n",
       "      <td>[This would help support my setting as it will help prisioners move forward with rehabiitation and continue their journey in learning on the outside, by having additional money to provide resources for all types of learners, We are excited to propose the establishment of a coffee cart within our school, aimed at providing 16-19 year old learners with invaluable work experience., We would love to support our learners across all ages with essentials to support them to come to college from pens...</td>\n",
       "    </tr>\n",
       "    <tr>\n",
       "      <th>27</th>\n",
       "      <td>26</td>\n",
       "      <td>12</td>\n",
       "      <td>26_school library_library_our library_local library</td>\n",
       "      <td>[school library, library, our library, local library, library shelves, find books, library book, library in, free books, library is]</td>\n",
       "      <td>[library, books, school library, our library, our school, library in, promote reading, books and, library is, of books]</td>\n",
       "      <td>[School Library and Reading Access]</td>\n",
       "      <td>[We have been attempting to build a library in our small provision to be able to give our young people access to a range of books including eBooks, low ability high interest, magazines, poems and classic novels., Recently, we have been taking classes to the local library for small workshops and to browse books on offer but our library requires a card to borrow books and is quite a walk away from our children's houses., We have just updated our school library to encourage a love of reading an...</td>\n",
       "    </tr>\n",
       "    <tr>\n",
       "      <th>28</th>\n",
       "      <td>27</td>\n",
       "      <td>12</td>\n",
       "      <td>27_school would_would use_for exams_clock would</td>\n",
       "      <td>[school would, would use, for exams, clock would, outdoor classroom, would, groups would, usable productive, knowledge would, enable teachers]</td>\n",
       "      <td>[it to, use, would use, science, outdoor classroom, resources, science resources, the outdoor, school would, classroom]</td>\n",
       "      <td>[Science Resources and Outdoor Learning Development]</td>\n",
       "      <td>[As vice chair of the ptfa for my childs school, i would use this to fund or go towards one of the many projects we're working on at the moment such as the outdoor classroom, I would use it to help us develop our garden and outdoor learning area, we are currently working really hard to make it a usable, productive and beautiful space but are lacking some of the resources to really push forward., We would use it to buy calculators and digital watches for exams as we have realised that many of...</td>\n",
       "    </tr>\n",
       "    <tr>\n",
       "      <th>29</th>\n",
       "      <td>28</td>\n",
       "      <td>12</td>\n",
       "      <td>28_thank you_thankyou_thanks thank_thanks</td>\n",
       "      <td>[thank you, thankyou, thanks thank, thanks, thank, you thank, kind regards, regards, thankyou claire, kindest regards]</td>\n",
       "      <td>[yom emma, thankyou claire, christie thank, regards jamin, kindest, you xo, jo thank, emma christie, claire yom, jamin]</td>\n",
       "      <td>[Teacher Appreciation and Gratitude Messages]</td>\n",
       "      <td>[Thank you, Thank you, Thank you]</td>\n",
       "    </tr>\n",
       "    <tr>\n",
       "      <th>30</th>\n",
       "      <td>29</td>\n",
       "      <td>11</td>\n",
       "      <td>29_school 2026_open school_temporary school_schools closed</td>\n",
       "      <td>[school 2026, open school, temporary school, schools closed, schools 60th, schools, local schools, 2025 offering, school, 2025 we]</td>\n",
       "      <td>[2025, january 2025, temporary school, 2025 we, celebrating, are newly, park, school, open, building]</td>\n",
       "      <td>[New Temporary School Opening and Future Plans]</td>\n",
       "      <td>[We finally moved back to our new temporary school in January 2025., We are a newly opened setting as of January 2025, offering our children unique opportunities like horse riding and swimming, which they might not otherwise experience., We are beginning research providers and looking to access the archives so we can spend the 2025-26 Year empowering the children and sharing the history for the final events in July 2026.]</td>\n",
       "    </tr>\n",
       "    <tr>\n",
       "      <th>31</th>\n",
       "      <td>30</td>\n",
       "      <td>11</td>\n",
       "      <td>30_music lessons_music_make music_some music</td>\n",
       "      <td>[music lessons, music, make music, some music, magical music, school music, musical, instruments and, instruments, instruments that]</td>\n",
       "      <td>[instruments, instrument, our musical, make music, music lessons, instruments and, children to, ukuleles so, instrument for, maestro]</td>\n",
       "      <td>[Music Resources and Instruments for Inclusive Music Education]</td>\n",
       "      <td>[Music., It provides an avenue for children who cannot afford music lessons to experience the joy of learning an instrument, fostering a sense of community and pride among the class members and developing a love of music., I am the music lead and would love to have microphones and some music equipment for the children as this will better our choir department, music lessons and amplify our musical maestro performances when the children perform in from the the school.]</td>\n",
       "    </tr>\n",
       "    <tr>\n",
       "      <th>32</th>\n",
       "      <td>31</td>\n",
       "      <td>11</td>\n",
       "      <td>31_outdoor classrooms_limited equipment_equipment for_enough equipment</td>\n",
       "      <td>[outdoor classrooms, limited equipment, equipment for, enough equipment, practical equipment, equipment too, equipment to, children benefiting, equipment, nature school]</td>\n",
       "      <td>[equipment, equipment to, forest school, forest, desperately need, school area, provide them, equipment for, outdoor classrooms, do practical]</td>\n",
       "      <td>[Outdoor Learning Equipment and Forest School Resources]</td>\n",
       "      <td>[At present, we have over 90 children benefiting from our programs, and we are eager to provide them with additional outdoor equipment that will contribute to their physical, social, and emotional development., This would be a great help to purchase some new forest school equipment to expand and stretch our children's learning as we are creating a forest school area., We are a thriving school with over 450 pupils who benefit from our large open space, but we currently have limited equipment ...</td>\n",
       "    </tr>\n",
       "  </tbody>\n",
       "</table>\n",
       "</div>"
      ],
      "text/plain": [
       "    Topic  Count  \\\n",
       "0      -1   1279   \n",
       "1       0   1271   \n",
       "2       1    153   \n",
       "3       2     54   \n",
       "4       3     53   \n",
       "5       4     43   \n",
       "6       5     32   \n",
       "7       6     32   \n",
       "8       7     31   \n",
       "9       8     28   \n",
       "10      9     28   \n",
       "11     10     27   \n",
       "12     11     27   \n",
       "13     12     26   \n",
       "14     13     26   \n",
       "15     14     21   \n",
       "16     15     18   \n",
       "17     16     18   \n",
       "18     17     17   \n",
       "19     18     17   \n",
       "20     19     16   \n",
       "21     20     15   \n",
       "22     21     15   \n",
       "23     22     15   \n",
       "24     23     14   \n",
       "25     24     13   \n",
       "26     25     12   \n",
       "27     26     12   \n",
       "28     27     12   \n",
       "29     28     12   \n",
       "30     29     11   \n",
       "31     30     11   \n",
       "32     31     11   \n",
       "\n",
       "                                                                            Name  \\\n",
       "0                                   -1_children_children to_funding_the children   \n",
       "1                                           0_funding_resources to_money_develop   \n",
       "2                                   1_sensory garden_garden for_garden_gardening   \n",
       "3                              2_our nursery_nursery setting_nursery_new nursery   \n",
       "4                                3_funding would_funding_this funding_scientists   \n",
       "5                                  4_pencils also_and pencils_crafts_pencils and   \n",
       "6                               5_funding would_funding_money would_this funding   \n",
       "7                              6_children live_have gardens_children_children do   \n",
       "8                                  7_twinkl maths_using twinkl_use twinkl_twinkl   \n",
       "9                              8_outdoor library_books for_outdoor reading_books   \n",
       "10          9_consideration thank_thanks for_your consideration_considered thank   \n",
       "11                         10_maths resources_maths and_resources for_maths more   \n",
       "12                      11_computing skills_digital skills_technology to_laptops   \n",
       "13                  12_eyfs outside_eyfs area_outdoor provision_outdoor learning   \n",
       "14                   13_healthy food_good nutrition_healthy eating_nutrition and   \n",
       "15                                  14_ipads technology_new ipads_10 ipads_ipads   \n",
       "16                  15_calming environment_calming resources_for calming_calming   \n",
       "17                  16_little resources_our resources_resources are_resources we   \n",
       "18                           17_climbing frame_climbing_new climbing_or climbing   \n",
       "19                                       18_chairs_seating_new chairs_the chairs   \n",
       "20                                            19_thank you_thankyou_thanks_thank   \n",
       "21                           20_yng nghymru_ysgol dderi_trãªn newydd_nghymru mae   \n",
       "22                      21_forest school_develop forest_accessible forest_forest   \n",
       "23                                22_damaged books_reused books_books_many books   \n",
       "24                                  23_wildlife pond_pond dipping_pond_pond area   \n",
       "25                        24_supplies please_including wooden_fire pit_fire area   \n",
       "26  25_enabling students_educational supplies_support classroom_students package   \n",
       "27                           26_school library_library_our library_local library   \n",
       "28                               27_school would_would use_for exams_clock would   \n",
       "29                                     28_thank you_thankyou_thanks thank_thanks   \n",
       "30                    29_school 2026_open school_temporary school_schools closed   \n",
       "31                                  30_music lessons_music_make music_some music   \n",
       "32        31_outdoor classrooms_limited equipment_equipment for_enough equipment   \n",
       "\n",
       "                                                                                                                                                                               Representation  \\\n",
       "0                                                                              [children, children to, funding, the children, our children, provision, money, provide, our school, resources]   \n",
       "1                                                                                 [funding, resources to, money, develop, resources, money to, our school, the money, we would, our children]   \n",
       "2                                                                           [sensory garden, garden for, garden, gardening, our garden, garden and, the garden, planting, plants, plants and]   \n",
       "3                                                      [our nursery, nursery setting, nursery, new nursery, nursery in, charity preschool, nursery and, the nursery, preschool, preschool in]   \n",
       "4                                                            [funding would, funding, this funding, scientists, science experiences, science and, scientific, and science, science, for stem]   \n",
       "5                                                                     [pencils also, and pencils, crafts, pencils and, art supplies, pencils, glue sticks, pens pencils, supplies, and craft]   \n",
       "6                                                                          [funding would, funding, money would, this funding, we would, the funding, help us, this would, this money, money]   \n",
       "7                                                      [children live, have gardens, children, children do, being outdoors, children to, outdoors, outdoors but, deprived area, the children]   \n",
       "8                                                                       [twinkl maths, using twinkl, use twinkl, twinkl, twinkl to, the twinkl, from twinkl, with twinkl, to twinkl, twinklâ]   \n",
       "9                                                                      [outdoor library, books for, outdoor reading, books, of books, book, engaging books, the library, books and, books to]   \n",
       "10                                    [consideration thank, thanks for, your consideration, considered thank, time thank, appreciate you, opportunity thank, thank you, consideration, thank]   \n",
       "11                                                                            [maths resources, maths and, resources for, maths more, more maths, maths, resources, math, maths to, in maths]   \n",
       "12                                 [computing skills, digital skills, technology to, laptops, grandchildrenâ school, daily teaching, curriculum lessons, technology, the laptops, laptops to]   \n",
       "13                                                                 [eyfs outside, eyfs area, outdoor provision, outdoor learning, eyfs children, the eyfs, our eyfs, eyfs, in eyfs, eyfs our]   \n",
       "14                                                                       [healthy food, good nutrition, healthy eating, nutrition and, nutrition, food, eating, healthy, cooking, eating and]   \n",
       "15                                                                             [ipads technology, new ipads, 10 ipads, ipads, ipads our, ipads we, ipads to, with ipads, ipads can, ipads so]   \n",
       "16                                        [calming environment, calming resources, for calming, calming, cabin room, fosters relaxation, and calming, room, gentler children, peaceful space]   \n",
       "17                                            [little resources, our resources, resources are, resources we, resources have, new resources, of resources, the resources, resources, our lack]   \n",
       "18                                                       [climbing frame, climbing, new climbing, or climbing, ks2 climbing, bikes, bikes and, physical development, new bikes, and scooters]   \n",
       "19                                                                           [chairs, seating, new chairs, the chairs, lower chairs, comfy seating, seating or, library area, new desks, sit]   \n",
       "20                                                                   [thank you, thankyou, thanks, thank, thanks thank, you thankyou, kind regards, thankyou thank, you thank, regards thank]   \n",
       "21                                                         [yng nghymru, ysgol dderi, trãªn newydd, nghymru mae, wedi pydru, bydd rhaid, newydd plant, mae gyda, yng ngheredigion, mae trãªn]   \n",
       "22                                                 [forest school, develop forest, accessible forest, forest, have forest, outdoor learning, the forest, in forest, our forest, our woodland]   \n",
       "23                                                                    [damaged books, reused books, books, many books, books are, new books, the books, books from, new library, the shelves]   \n",
       "24                                                                             [wildlife pond, pond dipping, pond, pond area, pond which, pond liner, pond for, the pond, pond the, for pond]   \n",
       "25                                                  [supplies please, including wooden, fire pit, fire area, natural equipment, play kits, kitchens and, growing kits, equipment, and chalks]   \n",
       "26  [enabling students, educational supplies, support classroom, students package, essential educational, making lessons, learners, our learners, learning environment, comfortable learning]   \n",
       "27                                                       [school library, library, our library, local library, library shelves, find books, library book, library in, free books, library is]   \n",
       "28                                             [school would, would use, for exams, clock would, outdoor classroom, would, groups would, usable productive, knowledge would, enable teachers]   \n",
       "29                                                                     [thank you, thankyou, thanks thank, thanks, thank, you thank, kind regards, regards, thankyou claire, kindest regards]   \n",
       "30                                                         [school 2026, open school, temporary school, schools closed, schools 60th, schools, local schools, 2025 offering, school, 2025 we]   \n",
       "31                                                       [music lessons, music, make music, some music, magical music, school music, musical, instruments and, instruments, instruments that]   \n",
       "32                  [outdoor classrooms, limited equipment, equipment for, enough equipment, practical equipment, equipment too, equipment to, children benefiting, equipment, nature school]   \n",
       "\n",
       "                                                                                                                               Secondary Representation  \\\n",
       "0                                                                         [to, our, for, children, are, school, resources, support, we would, students]   \n",
       "1                                                                        [our, children, for, school, sensory, support, resources, we would, be, needs]   \n",
       "2                                                   [garden, plants, sensory garden, grow, garden for, gardening, planters, seeds, kitchen, vegetables]   \n",
       "3                                              [nursery, we are, are, preschool, are small, our, nursery in, our nursery, children aged, small charity]   \n",
       "4                        [science, stem, funding, funding would, this funding, problem solving, real world, develop, investigations, science equipment]   \n",
       "5                                    [glue, pencils, glue sticks, pens pencils, paper, stationery, supplies, pencils and, craft materials, sticks pens]   \n",
       "6                                         [money, money would, be, this money, would be, funding, towards, consider us, two sites, gratefully received]   \n",
       "7                                          [area, gardens, outdoors, children live, have gardens, in flats, outside space, home, deprived, have access]   \n",
       "8                                    [twinkl, use twinkl, from twinkl, twinklâ, the twinkl, using twinkl, twinkl maths, twinkl to, be life, love using]   \n",
       "9                                                                  [500, books, reading, library, the 500, books to, 500 to, welsh, 500 would, storage]   \n",
       "10  [for considering, your consideration, consideration thank, opportunity to, giving, us thank, many thanks, thanks for, opportunity thank, your time]   \n",
       "11                                  [maths, maths resources, in maths, math, resources for, more maths, scales, numeracy, learners, number recognition]   \n",
       "12                            [laptops, technology, todayâ world, computing skills, laptops to, the laptops, gaps in, computing and, curriculum, learn]   \n",
       "13                                                     [our eyfs, eyfs area, in eyfs, outside, outdoor area, ks1, our outdoor, improve, play, moved to]   \n",
       "14                            [food, gardening club, cooking, healthy eating, gardening, school, healthy food, nutrition and, cuisines, good nutrition]   \n",
       "15                                                 [ipads, new ipads, ipads to, projector, ipads can, 10 ipads, classes the, ports, charging, ipads we]   \n",
       "16                             [calming, room, children, cabin room, calming resources, calming environment, this room, and calming, relaxation, quiet]   \n",
       "17                    [resources, resources we, new resources, to lack, of resources, resources have, due, our resources, resources are, the resources]   \n",
       "18                                 [bikes, climbing frame, bikes and, bike, bikes to, bike storage, helmets, new bikes, scooters, physical development]   \n",
       "19                           [comfortable, chairs, seating, books, comfy seating, more comfortable, seating or, some comfy, library area, children can]   \n",
       "20                                                [thank, thankyou thank, you thankyou, you kind, you thanks, thankyou, kind regards, you so, much, so]   \n",
       "21                                              [mae trãªn, ysgol, plant, plant bach, oed sy, nghymru mae, pydru bydd, plant gydag, plantos, pren wedi]   \n",
       "22                               [forest school, forest, school area, our forest, develop forest, up forest, wildlife, develop, outdoor space, area we]   \n",
       "23                                           [books, books are, damaged books, 30 years, are old, falling, new library, the books, which we, new books]   \n",
       "24                                       [pond, the pond, pond dipping, pond and, for pond, pond as, encourage wildlife, wildlife pond, newts in, noah]   \n",
       "25                                                       [equipment, boards and, fire pit, trays, mud, kits, set up, we would, including, kelly kettle]   \n",
       "26                        [learners, supplies, support, would, the learning, journey, learning environment, our learners, teachers who, making lessons]   \n",
       "27                              [library, books, school library, our library, our school, library in, promote reading, books and, library is, of books]   \n",
       "28                              [it to, use, would use, science, outdoor classroom, resources, science resources, the outdoor, school would, classroom]   \n",
       "29                              [yom emma, thankyou claire, christie thank, regards jamin, kindest, you xo, jo thank, emma christie, claire yom, jamin]   \n",
       "30                                                [2025, january 2025, temporary school, 2025 we, celebrating, are newly, park, school, open, building]   \n",
       "31                [instruments, instrument, our musical, make music, music lessons, instruments and, children to, ukuleles so, instrument for, maestro]   \n",
       "32       [equipment, equipment to, forest school, forest, desperately need, school area, provide them, equipment for, outdoor classrooms, do practical]   \n",
       "\n",
       "                                                              OpenAI  \\\n",
       "0             [Early Childhood Learning Resources and Sensory Areas]   \n",
       "1              [Outdoor and Sensory Learning Resources for Children]   \n",
       "2                      [Sensory Garden and Outdoor Play Development]   \n",
       "3   [Small Charity and Community Nurseries in Somerset and Barnsley]   \n",
       "4                               [STEM Education and Science Funding]   \n",
       "5                           [Art Supplies and Educational Materials]   \n",
       "6       [Funding Requests and Financial Support for School Projects]   \n",
       "7           [Limited Outdoor Access and Play Resources for Children]   \n",
       "8              [Homeschooling and Classroom Use of Twinkl Resources]   \n",
       "9                         [School Reading and Literacy Enhancements]   \n",
       "10              [Gratitude and Appreciation for Grant Opportunities]   \n",
       "11          [Maths Resources and Manipulatives for Student Learning]   \n",
       "12         [Technology and Computing Resources for Student Learning]   \n",
       "13                [EYFS Outdoor Learning and Play Space Development]   \n",
       "14                        [Healthy Eating and Gardening Initiatives]   \n",
       "15                   [Technology and Digital Resources for Learning]   \n",
       "16          [Calming Spaces and Sensory Rooms for Emotional Support]   \n",
       "17                        [Science Equipment and Resource Shortages]   \n",
       "18                 [Outdoor Play Equipment and Storage Improvements]   \n",
       "19                        [Reading and Library Seating Improvements]   \n",
       "20                                            [Expressing Gratitude]   \n",
       "21            [School Transportation and Support for Young Children]   \n",
       "22                  [Forest School Development and Outdoor Learning]   \n",
       "23                             [Damaged and Aging Library Resources]   \n",
       "24                [School Pond Enhancement and Wildlife Exploration]   \n",
       "25                    [Outdoor Play Equipment and Fire Safety Needs]   \n",
       "26                  [Educational Support and Resources for Learners]   \n",
       "27                               [School Library and Reading Access]   \n",
       "28              [Science Resources and Outdoor Learning Development]   \n",
       "29                     [Teacher Appreciation and Gratitude Messages]   \n",
       "30                   [New Temporary School Opening and Future Plans]   \n",
       "31   [Music Resources and Instruments for Inclusive Music Education]   \n",
       "32          [Outdoor Learning Equipment and Forest School Resources]   \n",
       "\n",
       "                                                                                                                                                                                                                                                                                                                                                                                                                                                                                                    Representative_Docs  \n",
       "0                                                                                                                                                               [We would use this money to buy resources that help develop the children's literacy and numeracy skills, especially in our outdoor environment., I would like to buy equipment and resources to help develop theses skills and help to support these children to develop in order for them to thrive in the future., Buy resources to support learning]  \n",
       "1                                                                                                                                                                                                  [We would use this money to buy sensory equipment for our Nurture provision., We would use any money to support our children in developing their outdoor space., We have a high number of pupils in foundation phase with additional sensory needs, we would use the money to get resources to support these pupils]  \n",
       "2                                                                                                                                                                                                                                                                       [Our Japanese garden needs transforming into a sensory garden for our children with SEN., We would very much like to make a sensory garden for the children to enjoy!, We would love some plants to create a sensory garden for the under 2's.]  \n",
       "3                                                                                                      [Our charity preschool, proudly serving the community for over 40 years, is dedicated to providing a safe, nurturing, and inspiring environment for young children to learn, grow, and thrive., We are a small charity run community nursery in Elsecar, Barnsley., We are a small charity run preschool in a small village in Somerset, we only have 17 children on the register (which is quite busy for us!)]  \n",
       "4   [This funding would bring science to life fostering curiosity, creativity and problem solving skills through real world nature based learning., Your funding would ensure all our pupils, regardless of background, can experience the excitement of real-world science and develop a lifelong love for STEM with some extra funding., Your funding would ensure all our pupils, regardless of background, can experience the excitement of real-world science and develop a lifelong love for STEM with some ex...  \n",
       "5                                                                         [Then with any left over money I would buy basic supplies like glue sticks, paper, coloured paper, pens and pencils, as money is very tight!, Aswell as stationery like glue sticks, pens, pencils and colouring pencils\\nAlso equipment to help to support SEND children with motor skills!, Aswell as stationery like glue sticks, pens, pencils and colouring pencils\\nAlso equipment to help to support SEND children with motor skills!]  \n",
       "6                                                                                                                                                                                                                                                         [Any money we receive will be very gratefully received., The money would be so gratefully received and have a big impact., We would dearly love to update our history artefacts and our globes and atlases to help enrich our history and geography lessons.]  \n",
       "7                                                                                                                                                                                                                    [Most of our children live in flats, often in cramped conditions and no access to the outdoors., Two thirds of our pre-school children live in flats with little or no access to an outside play area., We have a lot of children in our cohort who don't have access to an outside space at home]  \n",
       "8   [We would love to purchase some headphones with an attached microphone to allow them to use dictate to text, meaning their ideas can be shared without the fear or block of needing to write them down., Dear Team Twinkl,\\nThe Disraeli School in High Wycombe: a thriving 3 form primary school with brilliant, very dedicated staff and inspiring co-Headteachers., Both myself and my year group partner teacher are absolutely loving the Twinkl Original books for our reading sessions as they compliment...  \n",
       "9   [This would be used to develop our reading areas with an outdoor reading shed in eyfs - we invite parents to share a book before school and would like to purchase beanbags, crates and punting to enhance this area., I would like to create an outdoor reading area for my SEN school so the money would used to provide suitable weather proof book storage and books., If our school won Â£500, it would be split so that we could use Â£250 towards new books and items for our new reading retreat, and th...  \n",
       "10                                                                                                                                                                                                                                                                                                                                                                                                            [Thank you for your consideration., Thank you for your consideration., Thank you for your consideration.]  \n",
       "11                                 [We are looking to buy more Maths resources for EYFS, KS1 and KS2, including books with stories in maths, I would also love to buy more maths resources for counting and number recognition to be able to develop the childrenâ€™s understanding of maths and enabling them to become school ready., We would like the money for hands on Maths resources - 2d shapes and 3d shapes for ks1 and ks2 to use in Maths lessons and weighing scales for use in Maths across the school.]  \n",
       "12                                                                                                              [We have very little technology to use with our SEN children and desperately need interactive resources where the children can learn to type, voice record and photograph evidence of their learning., We need to upgrade 35 children's laptops in September as our current laptops won't meet a software update., Working laptops for children to learn the basic Computing skills in KS1 curriculum.]  \n",
       "13                                                                                                      [We are currently trying to revamp our small EYFS outside area, to encourage outdoor learning and foster a love of the outdoors in our children., I have recently moved to EYFS and as a team, we are trying to develop our EYFS classrooms., Our EYFS team and I have been trying to develop building areas, sensory kitchens, source resources for those areas and outdoor water play and small world areas.]  \n",
       "14                                                      [Healthy Eating: Students learn about nutrition and the importance of balanced diets, encouraging healthier food choices., As well as teaching an important life skill we aim to instill a love and joy for good healthy food and help the children to understand the importance of good nutrition., Healthy eating project - I would love to be able to cook with the children in our school to encourage healthy eating and a healthy attitude towards food.]  \n",
       "15  [Also tech gadgets like a portable laptop for me to do my Phonics Lead work, and a small reasonable user friendly projector for Power Point presentations for example, Twinkl Phonics, special weeks and days., Our current one is old and the charging ports don't all work meaning we have to charge 10 ipads with 4 working ports., We will be raising money to update our computing provision including the computing suite and new ipads so they are suitable for children to use for their computing curri...  \n",
       "16  [This mini project would support many of the children within the school in offering a calming space to enable children to regulate in a safe and calming manner., This calm, quiet area would feature a variety of sensory experiences, like soothing sounds and different textures, all aimed at stimulating their interests and supporting their emotional wellbeing., This room is used a lot and we need to develop a corner of the room to provide more space for calming activities and dysregulation for ...  \n",
       "17                                                        [It also highlighted our lack of science experiment resource, and how some of resources are worn and tired or broken now., We also need additional equipment for our classrooms and our curriculum, we lack the basic resources like books that are needed for the curriculum, we are buying them out of our own pockets., We need any extra money we can to buy new resources for different subjects e.g. art supplies, Maths equipment, science resources.]  \n",
       "18                                                                                             [Meanwhile, the Green Roomâ€™s climbing frame is too small for older children, limiting their physical play., As a hands-on, DIY-orientated team, we would build a new climbing frame ourselvesâ€”just as we did for our other roomâ€”maximizing the impact of your support., If we won the competition, the children would love a new climbing frame for the outdoor area, a sensory wall, and new bikes and scooters.]  \n",
       "19  [We would spend the money on some comfy seating for our library area, alongside some suitable storage for our wide rage of exciting books and stories., We could really do with some seating areas in library, We currently have a few stools but would be good to have some more comfortable seating so the children can relax and really enjoy their reading., I have a very old lab and my older student cannot fit under the wooden desk as the chairs are to high, management just tells me there is not en...  \n",
       "20                                                                                                                                                                                                                                                                                                                                                                                                                                                                                 [Thank you., Thank you., Thank you.]  \n",
       "21                                                                                                                                                                                  [gael yng Nghymru, mae'r trÃªn bellach wedi pydru a bydd rhaid iddo fynd., Mae gyda ni cant o ddisgyblion ar y gofrestr gydag uned feithrin lle mae trÃªn pren wedi bod ers blynyddoedd lawer., Byddai hyn yn gwneud plantos bach tair a phedair oed sy'n cynnwys plant gydag anghenion dysgu ychwanegol y dosbarth yn hapus iawn.]  \n",
       "22                                                                                                                                                              [We would love to set up a forest school area on our field to enhance the current outdoor provision., We have a long term plan to turn our setting into a Forest School and our first step is to transform our current outdoor space so that it truly reflects the Forest School ethos., We are very lucky to have a forest school area in our school.]  \n",
       "23                                                                                                                  [We have damaged books, some of which have been in the collection for 30 years and some of which we have had to bin because they are mouldy!, We have recently revamped our school Äºibrary which involved shedding lots of outdated and damaged books., New reading books that are not falling apart, most of the books are old and have been donated or are second if not third and fourth hand.]  \n",
       "24                                           [We have just had some help from parents to restore our school pond and would love to encourage the children to use it for pond dipping., The impact would be happier and a wider range of animals in the pond, so pond dipping during Forest School sessions would be more exciting for the children as they would be more likely to catch something., We were hoping to install some walkways so help children assess the pond for pond dipping to help with education.]  \n",
       "25                                  [We are also in desperate need of a fire pit (Â£100) and would love to able to celebrate by inviting children to cook if we have money to buy resources., We would like to include creative equipment such as bug houses, sand, water and mud trays, chalk boards and soft play equipment to stimulate imagination., We would love to set up a fire area and we need a fire pit, flint rod, kelly kettle as well as fire safety equipment such as a bucket, sand and fire blanket.]  \n",
       "26  [This would help support my setting as it will help prisioners move forward with rehabiitation and continue their journey in learning on the outside, by having additional money to provide resources for all types of learners, We are excited to propose the establishment of a coffee cart within our school, aimed at providing 16-19 year old learners with invaluable work experience., We would love to support our learners across all ages with essentials to support them to come to college from pens...  \n",
       "27  [We have been attempting to build a library in our small provision to be able to give our young people access to a range of books including eBooks, low ability high interest, magazines, poems and classic novels., Recently, we have been taking classes to the local library for small workshops and to browse books on offer but our library requires a card to borrow books and is quite a walk away from our children's houses., We have just updated our school library to encourage a love of reading an...  \n",
       "28  [As vice chair of the ptfa for my childs school, i would use this to fund or go towards one of the many projects we're working on at the moment such as the outdoor classroom, I would use it to help us develop our garden and outdoor learning area, we are currently working really hard to make it a usable, productive and beautiful space but are lacking some of the resources to really push forward., We would use it to buy calculators and digital watches for exams as we have realised that many of...  \n",
       "29                                                                                                                                                                                                                                                                                                                                                                                                                                                                                    [Thank you, Thank you, Thank you]  \n",
       "30                                                                            [We finally moved back to our new temporary school in January 2025., We are a newly opened setting as of January 2025, offering our children unique opportunities like horse riding and swimming, which they might not otherwise experience., We are beginning research providers and looking to access the archives so we can spend the 2025-26 Year empowering the children and sharing the history for the final events in July 2026.]  \n",
       "31                              [Music., It provides an avenue for children who cannot afford music lessons to experience the joy of learning an instrument, fostering a sense of community and pride among the class members and developing a love of music., I am the music lead and would love to have microphones and some music equipment for the children as this will better our choir department, music lessons and amplify our musical maestro performances when the children perform in from the the school.]  \n",
       "32  [At present, we have over 90 children benefiting from our programs, and we are eager to provide them with additional outdoor equipment that will contribute to their physical, social, and emotional development., This would be a great help to purchase some new forest school equipment to expand and stretch our children's learning as we are creating a forest school area., We are a thriving school with over 450 pupils who benefit from our large open space, but we currently have limited equipment ...  "
      ]
     },
     "execution_count": 88,
     "metadata": {},
     "output_type": "execute_result"
    }
   ],
   "source": [
    "topic_model.get_topic_info()"
   ]
  },
  {
   "cell_type": "code",
   "execution_count": null,
   "id": "09682d91-9125-4588-9919-7c1295acc14d",
   "metadata": {},
   "outputs": [],
   "source": []
  }
 ],
 "metadata": {
  "kernelspec": {
   "display_name": "Python 3 (ipykernel)",
   "language": "python",
   "name": "python3"
  },
  "language_info": {
   "codemirror_mode": {
    "name": "ipython",
    "version": 3
   },
   "file_extension": ".py",
   "mimetype": "text/x-python",
   "name": "python",
   "nbconvert_exporter": "python",
   "pygments_lexer": "ipython3",
   "version": "3.12.10"
  }
 },
 "nbformat": 4,
 "nbformat_minor": 5
}
