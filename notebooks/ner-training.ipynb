{
 "cells": [
  {
   "cell_type": "code",
   "execution_count": 51,
   "id": "4b1da6b8-17d5-4271-a5d7-5d130260a5dc",
   "metadata": {},
   "outputs": [],
   "source": [
    "import json\n",
    "import random\n",
    "import spacy\n",
    "from spacy.util import minibatch\n",
    "from spacy.training.example import Example"
   ]
  },
  {
   "cell_type": "code",
   "execution_count": 52,
   "id": "135d1538-db90-4e1a-a371-31ce97a53c0f",
   "metadata": {},
   "outputs": [],
   "source": [
    "with open('data/labeled-data-hybrid.json', 'r') as file:\n",
    "    raw_data = json.load(file)"
   ]
  },
  {
   "cell_type": "code",
   "execution_count": 53,
   "id": "42da15a7-ffeb-479b-94c9-faa73edfb5f6",
   "metadata": {},
   "outputs": [
    {
     "data": {
      "text/plain": [
       "{'Unnamed: 0': 0,\n",
       " 'additional_info': 'In our school we have an Outdoors Instructor who would love the chance to develop a veg patch in her outdoor space to support our SEND students in growing and cooking their own food. The equipment and seeds provided in the giveaway would develop our students understanding of how to grow your own food but also the process of growing your own food.',\n",
       " 'id': 2015,\n",
       " 'label': [{'start': 74,\n",
       "   'end': 93,\n",
       "   'text': 'develop a veg patch',\n",
       "   'labels': ['Usage']},\n",
       "  {'start': 115,\n",
       "   'end': 182,\n",
       "   'text': 'to support our SEND students in growing and cooking their own food.',\n",
       "   'labels': ['Benefit']},\n",
       "  {'start': 259,\n",
       "   'end': 348,\n",
       "   'text': 'understanding of how to grow your own food but also the process of growing your own food.',\n",
       "   'labels': ['Benefit']}],\n",
       " 'annotator': 1,\n",
       " 'annotation_id': 7089,\n",
       " 'created_at': '2025-04-12T21:16:24.879659Z',\n",
       " 'updated_at': '2025-04-12T21:16:24.879683Z',\n",
       " 'lead_time': 42.768}"
      ]
     },
     "execution_count": 53,
     "metadata": {},
     "output_type": "execute_result"
    }
   ],
   "source": [
    "raw_data[0]"
   ]
  },
  {
   "cell_type": "code",
   "execution_count": 54,
   "id": "653a0b7f-5e0f-4ac9-8b42-3892ec084e5c",
   "metadata": {},
   "outputs": [],
   "source": [
    "TRAIN_DATA = []\n",
    "\n",
    "for record in raw_data:\n",
    "    text = record[\"additional_info\"]\n",
    "    entities = []\n",
    "    for ann in record[\"label\"]:\n",
    "        entity_label = ann[\"labels\"][0].upper()\n",
    "        start = ann[\"start\"]\n",
    "        end = ann[\"end\"]\n",
    "        entities.append((start, end, entity_label))\n",
    "    TRAIN_DATA.append((text, {\"entities\": entities}))"
   ]
  },
  {
   "cell_type": "code",
   "execution_count": 55,
   "id": "15303845-7976-48f3-b51e-3680e9597df4",
   "metadata": {},
   "outputs": [
    {
     "data": {
      "text/plain": [
       "[('In our school we have an Outdoors Instructor who would love the chance to develop a veg patch in her outdoor space to support our SEND students in growing and cooking their own food. The equipment and seeds provided in the giveaway would develop our students understanding of how to grow your own food but also the process of growing your own food.',\n",
       "  {'entities': [(74, 93, 'USAGE'),\n",
       "    (115, 182, 'BENEFIT'),\n",
       "    (259, 348, 'BENEFIT')]}),\n",
       " ('We are currently working on our outdoor provision. We have a large area and would love to be able to give it a full makeover! As a setting our ethos is to be nature inspired whilst using the curiosity approach with the added extras of colour etc. The children love spending time in the garden and enjoy planting and tending for the plants whilst also looking at the nature around. We have a wildlife garden which is in great need for a massive do over due to it being overgrown also - in here we have a pond, which was once home to many frogs!',\n",
       "  {'entities': [(391, 451, 'USAGE'), (101, 124, 'USAGE')]}),\n",
       " ('I would use this bundle with our SEN children, in particular the children I work with who have trauma; gardening has huge therapeutic benefits and this bundle will enable me to take the children out to the garden and enjoy the natural dopamine rush!',\n",
       "  {'entities': [(29, 101, 'CONTEXT'), (103, 249, 'BENEFIT')]})]"
      ]
     },
     "execution_count": 55,
     "metadata": {},
     "output_type": "execute_result"
    }
   ],
   "source": [
    "TRAIN_DATA[:3]"
   ]
  },
  {
   "cell_type": "code",
   "execution_count": 56,
   "id": "52874a6a-852a-457c-9fec-c2d267fd7067",
   "metadata": {},
   "outputs": [],
   "source": [
    "labels = [\"CONTEXT\", \"USAGE\", \"BENEFIT\"]"
   ]
  },
  {
   "cell_type": "code",
   "execution_count": 57,
   "id": "07cc9611-1461-48c1-892e-3ca49a9bcd01",
   "metadata": {},
   "outputs": [],
   "source": [
    "nlp = spacy.load('en_core_web_md')"
   ]
  },
  {
   "cell_type": "code",
   "execution_count": 58,
   "id": "dea12e7f-a9fd-4b01-b5e6-7e63511bc77f",
   "metadata": {},
   "outputs": [],
   "source": [
    "if 'ner' not in nlp.pipe_names:\n",
    "    ner = nlp.create_pipe('ner')\n",
    "    nlp.add_pipe(ner)\n",
    "else:\n",
    "    ner = nlp.get_pipe('ner')"
   ]
  },
  {
   "cell_type": "code",
   "execution_count": 59,
   "id": "6e7cb732-16a4-460f-b68a-f2208cae17ca",
   "metadata": {},
   "outputs": [],
   "source": [
    "for label in labels: ner.add_label(label)"
   ]
  },
  {
   "cell_type": "code",
   "execution_count": 72,
   "id": "43133106-98af-4dca-8d37-837d81cde57d",
   "metadata": {},
   "outputs": [
    {
     "name": "stderr",
     "output_type": "stream",
     "text": [
      "/Users/lynn/venv/lib/python3.12/site-packages/spacy/training/iob_utils.py:149: UserWarning: [W030] Some entities could not be aligned in the text \"Our children enjoy seeing flowers growing and the ...\" with entities \"[(0, 80, 'CONTEXT'), (82, 143, 'USAGE'), (194, 244...\". Use `spacy.training.offsets_to_biluo_tags(nlp.make_doc(text), entities)` to check the alignment. Misaligned entities ('-') will be ignored during training.\n",
      "  warnings.warn(\n",
      "/Users/lynn/venv/lib/python3.12/site-packages/spacy/training/iob_utils.py:149: UserWarning: [W030] Some entities could not be aligned in the text \"The Eco-Council have been working hard to prepare ...\" with entities \"[(0, 105, 'CONTEXT'), (265, 395, 'USAGE'), (399, 4...\". Use `spacy.training.offsets_to_biluo_tags(nlp.make_doc(text), entities)` to check the alignment. Misaligned entities ('-') will be ignored during training.\n",
      "  warnings.warn(\n",
      "/Users/lynn/venv/lib/python3.12/site-packages/spacy/training/iob_utils.py:149: UserWarning: [W030] Some entities could not be aligned in the text \"Budgets are tight, needs are great. We're a small ...\" with entities \"[(36, 176, 'CONTEXT'), (178, 293, 'CONTEXT'), (293...\". Use `spacy.training.offsets_to_biluo_tags(nlp.make_doc(text), entities)` to check the alignment. Misaligned entities ('-') will be ignored during training.\n",
      "  warnings.warn(\n",
      "/Users/lynn/venv/lib/python3.12/site-packages/spacy/training/iob_utils.py:149: UserWarning: [W030] Some entities could not be aligned in the text \"Hi we have a newly formed eco council who are keen...\" with entities \"[(0, 93, 'CONTEXT'), (95, 159, 'USAGE'), (160, 241...\". Use `spacy.training.offsets_to_biluo_tags(nlp.make_doc(text), entities)` to check the alignment. Misaligned entities ('-') will be ignored during training.\n",
      "  warnings.warn(\n",
      "/Users/lynn/venv/lib/python3.12/site-packages/spacy/training/iob_utils.py:149: UserWarning: [W030] Some entities could not be aligned in the text \"We are an urban school without a green space (e.g....\" with entities \"[(0, 64, 'CONTEXT'), (66, 153, 'USAGE'), (153, 300...\". Use `spacy.training.offsets_to_biluo_tags(nlp.make_doc(text), entities)` to check the alignment. Misaligned entities ('-') will be ignored during training.\n",
      "  warnings.warn(\n",
      "/Users/lynn/venv/lib/python3.12/site-packages/spacy/training/iob_utils.py:149: UserWarning: [W030] Some entities could not be aligned in the text \"We are a small rural school and as such have very ...\" with entities \"[(0, 96, 'CONTEXT'), (171, 230, 'USAGE'), (274, 45...\". Use `spacy.training.offsets_to_biluo_tags(nlp.make_doc(text), entities)` to check the alignment. Misaligned entities ('-') will be ignored during training.\n",
      "  warnings.warn(\n",
      "/Users/lynn/venv/lib/python3.12/site-packages/spacy/training/iob_utils.py:149: UserWarning: [W030] Some entities could not be aligned in the text \"If our preschool won £500, we would invest in enri...\" with entities \"[(0, 65, 'USAGE'), (66, 108, 'BENEFIT'), (110, 189...\". Use `spacy.training.offsets_to_biluo_tags(nlp.make_doc(text), entities)` to check the alignment. Misaligned entities ('-') will be ignored during training.\n",
      "  warnings.warn(\n",
      "/Users/lynn/venv/lib/python3.12/site-packages/spacy/training/iob_utils.py:149: UserWarning: [W030] Some entities could not be aligned in the text \"We are just about to start 'Eco Warriors' in our s...\" with entities \"[(0, 55, 'CONTEXT'), (57, 127, 'CONTEXT'), (153, 1...\". Use `spacy.training.offsets_to_biluo_tags(nlp.make_doc(text), entities)` to check the alignment. Misaligned entities ('-') will be ignored during training.\n",
      "  warnings.warn(\n",
      "/Users/lynn/venv/lib/python3.12/site-packages/spacy/training/iob_utils.py:149: UserWarning: [W030] Some entities could not be aligned in the text \"To win the money or the gardening bundle would be ...\" with entities \"[(289, 380, 'USAGE'), (62, 171, 'BENEFIT'), (175, ...\". Use `spacy.training.offsets_to_biluo_tags(nlp.make_doc(text), entities)` to check the alignment. Misaligned entities ('-') will be ignored during training.\n",
      "  warnings.warn(\n",
      "/Users/lynn/venv/lib/python3.12/site-packages/spacy/training/iob_utils.py:149: UserWarning: [W030] Some entities could not be aligned in the text \"Greetings from our SEN school Harford Manor in Nor...\" with entities \"[(15, 54, 'CONTEXT'), (56, 189, 'CONTEXT'), (516, ...\". Use `spacy.training.offsets_to_biluo_tags(nlp.make_doc(text), entities)` to check the alignment. Misaligned entities ('-') will be ignored during training.\n",
      "  warnings.warn(\n",
      "/Users/lynn/venv/lib/python3.12/site-packages/spacy/training/iob_utils.py:149: UserWarning: [W030] Some entities could not be aligned in the text \"Our school is in a deprivation 4 area, whereby mos...\" with entities \"[(0, 109, 'CONTEXT'), (110, 170, 'USAGE'), (171, 2...\". Use `spacy.training.offsets_to_biluo_tags(nlp.make_doc(text), entities)` to check the alignment. Misaligned entities ('-') will be ignored during training.\n",
      "  warnings.warn(\n",
      "/Users/lynn/venv/lib/python3.12/site-packages/spacy/training/iob_utils.py:149: UserWarning: [W030] Some entities could not be aligned in the text \"Within our urban school, many families face econom...\" with entities \"[(0, 131, 'CONTEXT'), (234, 282, 'BENEFIT'), (287,...\". Use `spacy.training.offsets_to_biluo_tags(nlp.make_doc(text), entities)` to check the alignment. Misaligned entities ('-') will be ignored during training.\n",
      "  warnings.warn(\n",
      "/Users/lynn/venv/lib/python3.12/site-packages/spacy/training/iob_utils.py:149: UserWarning: [W030] Some entities could not be aligned in the text \"We are still hoping to create a special outdoor sp...\" with entities \"[(0, 71, 'USAGE'), (143, 260, 'BENEFIT'), (262, 35...\". Use `spacy.training.offsets_to_biluo_tags(nlp.make_doc(text), entities)` to check the alignment. Misaligned entities ('-') will be ignored during training.\n",
      "  warnings.warn(\n",
      "/Users/lynn/venv/lib/python3.12/site-packages/spacy/training/iob_utils.py:149: UserWarning: [W030] Some entities could not be aligned in the text \"I would love to be able to use these resources to ...\" with entities \"[(47, 258, 'BENEFIT'), (259, 364, 'CONTEXT'), (451...\". Use `spacy.training.offsets_to_biluo_tags(nlp.make_doc(text), entities)` to check the alignment. Misaligned entities ('-') will be ignored during training.\n",
      "  warnings.warn(\n",
      "/Users/lynn/venv/lib/python3.12/site-packages/spacy/training/iob_utils.py:149: UserWarning: [W030] Some entities could not be aligned in the text \"We could use this to develop our outdoor area and ...\" with entities \"[(0, 45, 'USAGE'), (69, 200, 'CONTEXT'), (205, 307...\". Use `spacy.training.offsets_to_biluo_tags(nlp.make_doc(text), entities)` to check the alignment. Misaligned entities ('-') will be ignored during training.\n",
      "  warnings.warn(\n",
      "/Users/lynn/venv/lib/python3.12/site-packages/spacy/training/iob_utils.py:149: UserWarning: [W030] Some entities could not be aligned in the text \"Working in the Early Years classes at Rushmere Hal...\" with entities \"[(101, 162, 'CONTEXT'), (230, 316, 'CONTEXT'), (31...\". Use `spacy.training.offsets_to_biluo_tags(nlp.make_doc(text), entities)` to check the alignment. Misaligned entities ('-') will be ignored during training.\n",
      "  warnings.warn(\n",
      "/Users/lynn/venv/lib/python3.12/site-packages/spacy/training/iob_utils.py:149: UserWarning: [W030] Some entities could not be aligned in the text \"I work in an alternative provision supporting disa...\" with entities \"[(0, 78, 'CONTEXT'), (80, 171, 'CONTEXT'), (172, 2...\". Use `spacy.training.offsets_to_biluo_tags(nlp.make_doc(text), entities)` to check the alignment. Misaligned entities ('-') will be ignored during training.\n",
      "  warnings.warn(\n",
      "/Users/lynn/venv/lib/python3.12/site-packages/spacy/training/iob_utils.py:149: UserWarning: [W030] Some entities could not be aligned in the text \"We are about to build an outdoor learning/ sensory...\" with entities \"[(0, 58, 'CONTEXT'), (196, 247, 'BENEFIT')]\". Use `spacy.training.offsets_to_biluo_tags(nlp.make_doc(text), entities)` to check the alignment. Misaligned entities ('-') will be ignored during training.\n",
      "  warnings.warn(\n",
      "/Users/lynn/venv/lib/python3.12/site-packages/spacy/training/iob_utils.py:149: UserWarning: [W030] Some entities could not be aligned in the text \"Our small village school has a lovely vegetable pa...\" with entities \"[(0, 74, 'CONTEXT'), (76, 144, 'USAGE'), (145, 176...\". Use `spacy.training.offsets_to_biluo_tags(nlp.make_doc(text), entities)` to check the alignment. Misaligned entities ('-') will be ignored during training.\n",
      "  warnings.warn(\n"
     ]
    },
    {
     "name": "stdout",
     "output_type": "stream",
     "text": [
      "Epoch: 1, Losses: {'ner': 9533.999769367278}\n",
      "Epoch: 2, Losses: {'ner': 3373.046681917019}\n",
      "Epoch: 3, Losses: {'ner': 2111.8298322203573}\n",
      "Epoch: 4, Losses: {'ner': 1268.7511834601187}\n",
      "Epoch: 5, Losses: {'ner': 1260.472505828361}\n",
      "Epoch: 6, Losses: {'ner': 2081.233363646942}\n",
      "Epoch: 7, Losses: {'ner': 1870.1290942860255}\n",
      "Epoch: 8, Losses: {'ner': 2760.632185367636}\n",
      "Epoch: 9, Losses: {'ner': 4679.581114066543}\n",
      "Epoch: 10, Losses: {'ner': 1795.3569531670457}\n",
      "Epoch: 11, Losses: {'ner': 1373.5194162921005}\n",
      "Epoch: 12, Losses: {'ner': 1627.4724870795094}\n",
      "Epoch: 13, Losses: {'ner': 2155.7555929912505}\n",
      "Epoch: 14, Losses: {'ner': 2706.850242773626}\n",
      "Epoch: 15, Losses: {'ner': 1775.3004598389962}\n",
      "Epoch: 16, Losses: {'ner': 2494.793117767037}\n",
      "Epoch: 17, Losses: {'ner': 2254.270585262983}\n",
      "Epoch: 18, Losses: {'ner': 2032.8792585826413}\n",
      "Epoch: 19, Losses: {'ner': 1623.8611707914843}\n",
      "Epoch: 20, Losses: {'ner': 2971.092258894847}\n",
      "Epoch: 21, Losses: {'ner': 1791.2796182300083}\n",
      "Epoch: 22, Losses: {'ner': 1042.6703570287234}\n",
      "Epoch: 23, Losses: {'ner': 1433.6355348417426}\n",
      "Epoch: 24, Losses: {'ner': 1408.8894868987602}\n",
      "Epoch: 25, Losses: {'ner': 1056.7561133178813}\n",
      "Epoch: 26, Losses: {'ner': 1944.829844542442}\n",
      "Epoch: 27, Losses: {'ner': 2795.8901439635674}\n",
      "Epoch: 28, Losses: {'ner': 2298.3327245539053}\n",
      "Epoch: 29, Losses: {'ner': 2307.1431226889918}\n",
      "Epoch: 30, Losses: {'ner': 2528.3436281068466}\n",
      "Epoch: 31, Losses: {'ner': 1870.7222537528485}\n",
      "Epoch: 32, Losses: {'ner': 1094.7755118804075}\n",
      "Epoch: 33, Losses: {'ner': 2263.5593045036608}\n",
      "Epoch: 34, Losses: {'ner': 1468.8629297240825}\n",
      "Epoch: 35, Losses: {'ner': 1500.340793062488}\n",
      "Epoch: 36, Losses: {'ner': 1514.0060728432647}\n",
      "Epoch: 37, Losses: {'ner': 1252.899499569187}\n",
      "Epoch: 38, Losses: {'ner': 1178.042552752851}\n",
      "Epoch: 39, Losses: {'ner': 1733.7365258247341}\n",
      "Epoch: 40, Losses: {'ner': 3265.8411689659533}\n",
      "Epoch: 41, Losses: {'ner': 1594.4703964198884}\n",
      "Epoch: 42, Losses: {'ner': 1528.291078742218}\n",
      "Epoch: 43, Losses: {'ner': 1121.1585976279564}\n",
      "Epoch: 44, Losses: {'ner': 1977.9884357938543}\n",
      "Epoch: 45, Losses: {'ner': 1668.6792443859056}\n",
      "Epoch: 46, Losses: {'ner': 1767.2459401943004}\n",
      "Epoch: 47, Losses: {'ner': 1790.4347547065895}\n",
      "Epoch: 48, Losses: {'ner': 1172.3169484436285}\n",
      "Epoch: 49, Losses: {'ner': 1229.973782697482}\n",
      "Epoch: 50, Losses: {'ner': 1485.830037922377}\n",
      "Epoch: 51, Losses: {'ner': 1417.2411754741781}\n",
      "Epoch: 52, Losses: {'ner': 1256.0793795796576}\n",
      "Epoch: 53, Losses: {'ner': 1265.9343875693016}\n",
      "Epoch: 54, Losses: {'ner': 1613.1182694931767}\n",
      "Epoch: 55, Losses: {'ner': 1374.4901916941078}\n",
      "Epoch: 56, Losses: {'ner': 1289.6665635846941}\n",
      "Epoch: 57, Losses: {'ner': 2030.2654670370566}\n",
      "Epoch: 58, Losses: {'ner': 1178.3719373901415}\n",
      "Epoch: 59, Losses: {'ner': 1222.974736904168}\n",
      "Epoch: 60, Losses: {'ner': 1110.8926425971572}\n",
      "Epoch: 61, Losses: {'ner': 2141.7158235774314}\n",
      "Epoch: 62, Losses: {'ner': 1469.6043911663928}\n",
      "Epoch: 63, Losses: {'ner': 1534.282817813435}\n",
      "Epoch: 64, Losses: {'ner': 1330.7558638433745}\n",
      "Epoch: 65, Losses: {'ner': 1328.6353675642722}\n",
      "Epoch: 66, Losses: {'ner': 1226.3045698316218}\n",
      "Epoch: 67, Losses: {'ner': 1000.5061301572475}\n",
      "Epoch: 68, Losses: {'ner': 1040.673097800813}\n",
      "Epoch: 69, Losses: {'ner': 1429.5936861294554}\n",
      "Epoch: 70, Losses: {'ner': 955.2435547965925}\n",
      "Epoch: 71, Losses: {'ner': 1139.967262046805}\n",
      "Epoch: 72, Losses: {'ner': 971.6258769863182}\n",
      "Epoch: 73, Losses: {'ner': 1223.0781285260389}\n",
      "Epoch: 74, Losses: {'ner': 1028.4424976595403}\n",
      "Epoch: 75, Losses: {'ner': 1043.8942978935258}\n",
      "Epoch: 76, Losses: {'ner': 1181.2761545421245}\n",
      "Epoch: 77, Losses: {'ner': 1016.0896479519944}\n",
      "Epoch: 78, Losses: {'ner': 1110.6242503181215}\n",
      "Epoch: 79, Losses: {'ner': 1083.1151262103085}\n",
      "Epoch: 80, Losses: {'ner': 865.0088993680911}\n",
      "Epoch: 81, Losses: {'ner': 999.7223470452517}\n",
      "Epoch: 82, Losses: {'ner': 1024.4064070045667}\n",
      "Epoch: 83, Losses: {'ner': 1008.208133637956}\n",
      "Epoch: 84, Losses: {'ner': 967.2180909306633}\n",
      "Epoch: 85, Losses: {'ner': 1038.060514933633}\n",
      "Epoch: 86, Losses: {'ner': 1160.641935240572}\n",
      "Epoch: 87, Losses: {'ner': 848.0598354220901}\n",
      "Epoch: 88, Losses: {'ner': 1593.9618448381439}\n",
      "Epoch: 89, Losses: {'ner': 2043.2513065760422}\n",
      "Epoch: 90, Losses: {'ner': 949.2219864119644}\n",
      "Epoch: 91, Losses: {'ner': 1308.128982071408}\n",
      "Epoch: 92, Losses: {'ner': 1419.6585662560803}\n",
      "Epoch: 93, Losses: {'ner': 1231.0372582253806}\n",
      "Epoch: 94, Losses: {'ner': 961.5172148445994}\n",
      "Epoch: 95, Losses: {'ner': 1032.0622994361909}\n",
      "Epoch: 96, Losses: {'ner': 760.3541173792706}\n",
      "Epoch: 97, Losses: {'ner': 858.9487417112138}\n",
      "Epoch: 98, Losses: {'ner': 899.7491508334869}\n",
      "Epoch: 99, Losses: {'ner': 997.3596832092959}\n",
      "Epoch: 100, Losses: {'ner': 850.4430336169822}\n"
     ]
    }
   ],
   "source": [
    "for _, annotations in TRAIN_DATA:\n",
    "    for ent in annotations['entities']:\n",
    "        if ent[2] not in ner.labels:\n",
    "            ner.add_label(ent[2])\n",
    "\n",
    "other_pipes = [pipe for pipe in nlp.pipe_names if pipe != 'ner']\n",
    "\n",
    "with nlp.disable_pipes(*other_pipes):\n",
    "    optimizer = nlp.initialize()\n",
    "\n",
    "    epochs = 100\n",
    "\n",
    "    for epoch in range(epochs):\n",
    "        random.shuffle(TRAIN_DATA)\n",
    "        losses = {}\n",
    "        batches =  minibatch(TRAIN_DATA, size=15)\n",
    "        for batch in batches:\n",
    "            examples = []\n",
    "            for text, annotations in batch:\n",
    "                doc = nlp.make_doc(text)\n",
    "                example=Example.from_dict(doc, annotations)\n",
    "                examples.append(example)\n",
    "\n",
    "            nlp.update(examples, drop=0.5, losses=losses)\n",
    "\n",
    "        print(f\"Epoch: {epoch +1}, Losses: {losses}\")"
   ]
  },
  {
   "cell_type": "code",
   "execution_count": 73,
   "id": "c9d6db57-c2e0-47a7-8bf6-9f1bd62ce638",
   "metadata": {},
   "outputs": [],
   "source": [
    "nlp.to_disk('custom-ner-model')"
   ]
  },
  {
   "cell_type": "code",
   "execution_count": 74,
   "id": "3ebccd20-399c-4a2e-8b12-49f8126162c2",
   "metadata": {},
   "outputs": [],
   "source": [
    "trained_nlp = spacy.load('custom-ner-model')"
   ]
  },
  {
   "cell_type": "code",
   "execution_count": 75,
   "id": "5e0c6dcd-dfa6-4a53-aab1-f37456445426",
   "metadata": {},
   "outputs": [],
   "source": [
    "import pandas as pd\n",
    "\n",
    "df = pd.read_csv('data/april-data.csv')"
   ]
  },
  {
   "cell_type": "code",
   "execution_count": 76,
   "id": "4765cd4d-2ef5-480d-8af9-432d787528b6",
   "metadata": {},
   "outputs": [],
   "source": [
    "test_texts = df['Additional_info'].sample(n=20).to_list()"
   ]
  },
  {
   "cell_type": "code",
   "execution_count": 77,
   "id": "060c15e0-69c4-4bac-a257-0a8333fba845",
   "metadata": {},
   "outputs": [
    {
     "name": "stdout",
     "output_type": "stream",
     "text": [
      "TEXT: we have 5 different support programmes for those with additional needs form ages 14 upwards.  We have a garden centre and this bundle would be great to be able to set up classes to get involved in nature, horticulture and offer this type of learning and connecting with nature that may not be available at home or school. We rely on funding streams which are being cut or stopped which means the variety of what we can offer becomes very limited and we appreciate all the donations, grants etc we can avail of to keep providing a meaningful experience\n",
      "\n",
      "ENTITIES: [('we have 5 different support programmes for those with additional needs form ages 14 upwards', 'CONTEXT')]\n",
      "------------------------------------------------------------\n",
      "TEXT: We have a wonderful outdoor area, with trees and planters and beautiful spaces for the children to explore in early years. However, due to budget constraints a lot of our resources for outside have become quite aged and worn out. It would be lovely to inject some newness into the area in order for the children to get the most of their outdoor learning experiences. As a school we have a Green Team who look after the outdoor areas, planting up, litter picking and we take a lot of pride in our school and want it to look impressive to passers by. It would be wonderful for us to win something like this.\n",
      "\n",
      "ENTITIES: [('We have a wonderful outdoor area', 'CONTEXT'), ('It would be lovely to inject some newness into the area in order for the children to get the most of their outdoor learning experiences', 'BENEFIT'), ('As a school we have a Green Team who look after the outdoor areas', 'CONTEXT'), ('It would be wonderful for us to win something like this.', 'BENEFIT')]\n",
      "------------------------------------------------------------\n",
      "TEXT: This year, our P3 class are through to the final of the Pocket Garden competition, with their Fairytale Alloa design. This design incorporates Alloaâ€™s cultural, natural and industrial heritage. We would love this garden bundle to help our design come to life and to learn about how plants grow.\n",
      "\n",
      "ENTITIES: [('This design incorporates Alloaâ€™s cultural, natural and industrial heritage', 'BENEFIT'), ('We would love this garden bundle to help our design come to life and to learn about how plants grow', 'USAGE')]\n",
      "------------------------------------------------------------\n",
      "TEXT: I work in an all age SEND school and for children with PMLD and complex medical needs which has only been open for two years \n",
      "We have an empty garden which the children in the school would love to be able to plant with lots of sensory plants so that the PMLD children can enjoy alongside their peers \n",
      "We would grow vegetables as well so that children can learn and see where their food comes from and use the produce in Food Technology with the secondary students\n",
      "\n",
      "ENTITIES: [('I work in an all age SEND school and for children with PMLD and complex medical needs which has only been open for two years \\r\\n', 'CONTEXT'), ('We have an empty garden which the children in the school would love to be able to plant with lots of sensory plants', 'CONTEXT'), ('We would grow vegetables as well so that children can learn and see where their food comes from and use the produce in Food Technology with the secondary students', 'USAGE')]\n",
      "------------------------------------------------------------\n",
      "TEXT: If we won the prize it would give our children to opportunity to take part in planting and growing flowers and some vegetables in our nursery garden. Most of our children live in tenement flats and don't have access to a garden. We would be able to purchase planters, small pots for the children to take home once their plant/flower has stated to grow. It would allow the children to observe nature in real time, which would expand on their own natural curiosity and wonder of their local environment, it would also give the children a sense of responsibility by reminding them to look after their flowers at home.\n",
      "\n",
      "ENTITIES: [('If we won the prize it would give our children to opportunity to take part in planting and growing flowers and some vegetables in our nursery garden', 'USAGE'), (\"Most of our children live in tenement flats and don't have access to a garden\", 'CONTEXT'), ('We would be able to purchase planters, small pots for the children to take home once their plant/flower has stated to grow', 'USAGE'), ('It would allow the children to observe nature in real time, which would expand on their own natural curiosity and wonder of their local environment', 'BENEFIT')]\n",
      "------------------------------------------------------------\n",
      "TEXT: My sons school is incredibly inclusive to those with SEN. They are opening up afterschool clubs for the students, gardening being one of them. These clubs are so important to these children and help with social interactions and friendships. \n",
      "A gardening bundle and Â£500 would be absolutely amazing and will really help towards these clubs and interventions.\n",
      "\n",
      "ENTITIES: [('My sons school is incredibly inclusive to those with SEN', 'CONTEXT'), ('gardening being one of them.', 'BENEFIT'), ('A gardening bundle and', 'CONTEXT'), ('Â£500 would be absolutely amazing and will really help towards these clubs and interventions', 'USAGE')]\n",
      "------------------------------------------------------------\n",
      "TEXT: It would lovely to use the prize to enable the children to be able to grow their own fruit and vegetables to be able to use in learning how to cook healthy meals or sell fruit at breaktime to be able to reinvest to be able to carry on replenishing plants, bulbs and compost etc.\n",
      "\n",
      "ENTITIES: []\n",
      "------------------------------------------------------------\n",
      "TEXT: We already have a weekly gardening club where staff bring in their own seeds or off-cut from plants.\n",
      "This bundle would allow us to take it further.\n",
      "\n",
      "ENTITIES: [('We already have a weekly gardening club where staff bring in their own seeds or off-cut from plants', 'CONTEXT'), ('This bundle would allow us to take it further.', 'BENEFIT')]\n",
      "------------------------------------------------------------\n",
      "TEXT: If I won the gardening bundle I would use it in my role of Emotional Literacy Support Assistant (ELSA) to support pupils wellbeing as well as in my SEND role. The vegetables we grow would then be used for cooking. Both gardening and cooking are great for improving wellbeing, following instructions, resilience and both fine and gross motor skills.\n",
      "\n",
      "ENTITIES: [('If I won the gardening bundle I', 'USAGE')]\n",
      "------------------------------------------------------------\n",
      "TEXT: Our upcoming theme is â€˜Gardnerâ€™s Worldâ€™ this would be perfect to bring the learning to life for our learners who all have severe learning difficulties.\n",
      "\n",
      "ENTITIES: [('Our upcoming theme is â€˜Gardnerâ€™s Worldâ€™ this would be perfect', 'CONTEXT'), ('to bring the learning to life for our learners who all have severe learning difficulties', 'BENEFIT')]\n",
      "------------------------------------------------------------\n",
      "TEXT: A local men's mental health group have made us some lovely wooden planters but we now need something to fill with with. Compost and plants are so expensive.\n",
      "\n",
      "ENTITIES: [(\"A local men's mental health group have made us some lovely wooden planters\", 'CONTEXT')]\n",
      "------------------------------------------------------------\n",
      "TEXT: We are a charity run pre school and rely on fundraising to purchase new equipment and furniture for the continued growth of the setting and to enhance the learning opportunities for the children. If we were to win these incredible prizes they would be used to update, revamp and revitalise our aging outdoor play area to enhance the childrenâ€™s  learning provision and experiences whilst exploring the great outdoors.\n",
      "\n",
      "ENTITIES: [('We are a charity run pre school and rely on fundraising to purchase new equipment and furniture for the continued growth of the setting and', 'CONTEXT'), ('to enhance the learning opportunities for the children', 'BENEFIT'), ('If we were to win these incredible prizes they would be used to update, revamp and revitalise our aging outdoor play area', 'USAGE')]\n",
      "------------------------------------------------------------\n",
      "TEXT: We have recently set up a Gardening Club for our students with SEN to help improve engagement and provide responsibility in a mainstream school. We are currently reliant on parent donations and missing key items such as spades to run this effectively.\n",
      "\n",
      "ENTITIES: [('We have recently set up a Gardening Club for our students with SEN to help improve engagement and provide responsibility in a mainstream school', 'CONTEXT'), ('We are currently reliant on parent donations and missing key items such as spades to run this effectively', 'CONTEXT')]\n",
      "------------------------------------------------------------\n",
      "TEXT: We are in the process of setting up a garden area on our field. We are recycling what we can to use in our garden - building bedding areas out of old decking and using other old bits of wood that have been donated to us. We are starting from scratch so we would use the money to purchase tools, seeds and flowers. We want to encourage our children to grow flowers and grow their own vegetables that we would then use in the meals supplied to our children at lunchtime.\n",
      "\n",
      "ENTITIES: [('We are in the process of setting up a garden area on our field', 'CONTEXT'), ('We are recycling what we can', 'CONTEXT'), ('We are starting from scratch', 'CONTEXT'), ('we would use the money to purchase tools, seeds and flowers', 'USAGE'), ('We want to encourage our children to grow flowers and grow their own vegetables that', 'USAGE'), ('we would then use in the meals supplied to our children at lunchtime', 'USAGE')]\n",
      "------------------------------------------------------------\n",
      "TEXT: We would plant edible fruit/veg/flowers to use in our cookery coursework as well as creating natural self-care products. We would explore the sensory aspects of plants as well as their historical uses. We are a group of 30+ young people with autism/ADHD and other additional support needs based in a area of low employment and are looking to improve our self esteem and confidence.\n",
      "\n",
      "ENTITIES: [('We would plant edible fruit/veg/flowers to use in our cookery coursework as well as creating natural self-care products', 'USAGE'), ('We would explore the sensory aspects of plants as well as their historical uses', 'USAGE'), ('We are a group of 30+ young people with autism/ADHD and other additional support needs based in a area of low employment and are looking to improve our self esteem and confidence', 'CONTEXT')]\n",
      "------------------------------------------------------------\n",
      "TEXT: This prize would mean the world for our school to win. Our school was built in 1836 and is a grade II listed building, it is so small we currently on have 94 students. Due to the size of our school our school playing field is a across the road and a short walk away from our building, which can make us all feel a little sad when we would like to be outdoors and enjoying gardening. However we do have an piece of small land at the front of school that has been used to create a sort of sensory area with scented plants however we do not have the resources to let the children have a go at planting and nuturing things. The children aswell as the staff would love to win a gardening bundle to plant the seeds and enjoy the food they grow..\n",
      "\n",
      "ENTITIES: [('Our school was built in 1836 and is a grade II listed building, it is so small we currently on have 94 students', 'CONTEXT'), ('The children aswell as the staff', 'CONTEXT')]\n",
      "------------------------------------------------------------\n",
      "TEXT: As a SEND school we value teaching life skills by teaching our pupils about the world all around them, this includes gardening and looking after their immediate environment, at home or at school.  Unfortunately, we don't have a dedicated gardening teacher or many resources to support our teachers in providing the lessons.  Our pupils love getting outdoors and watching their efforts grow before their eyes and more resources to enable better participation would really help support them in this endeavour, as well as support career choices as they grow through the school and into our 6th form college and beyond.\n",
      "\n",
      "ENTITIES: [('As a SEND school we value teaching life skills by teaching our pupils about the world all around them, this includes gardening and looking after their immediate environment', 'CONTEXT'), ('Our pupils love getting outdoors and', 'CONTEXT'), ('watching their efforts grow before their eyes and more resources to enable better participation would really help support them in this endeavour, as well as support career choices as they grow through the school and into our 6th form college and beyond', 'BENEFIT')]\n",
      "------------------------------------------------------------\n",
      "TEXT: The rural school setting, near Wem, is uniquely therapeutic and calming.  Pupils who have struggled in traditional mainstream settings are helped to stabilise and thrive in a therapeutic learning environment.\n",
      "\n",
      "With a qualified therapist attached to the school and a talented team of teachers dedicated to improving childrenâ€™s lives, Access School is well equipped to support young people with special educational needs.\n",
      "\n",
      "The school offers bespoke education for children aged 6-16 with social, emotional and mental health (SEMH), learning difficulties (LD) and mild learning difficulties (MLD).  Young people with attachment difficulties, autism and ADHD have thrived in this learning environment, which includes a therapeutic village, sensory rooms and story massage among many other features.\n",
      "\n",
      "We are always looking for new experiences for our young people.\n",
      "\n",
      "ENTITIES: [('The rural school setting', 'CONTEXT'), ('With a qualified therapist attached to the school and a talented team of teachers dedicated to improving childrenâ€™s lives, Access School is well equipped to support young people with special educational needs.', 'CONTEXT'), ('The school offers bespoke education for children aged 6-16 with social, emotional and mental health (SEMH), learning difficulties (LD) and mild learning difficulties (MLD).  ', 'CONTEXT'), ('We are always looking for new experiences for our young people', 'CONTEXT')]\n",
      "------------------------------------------------------------\n",
      "TEXT: We are a stand alone local authority nursery in a deprived and diverse area of newcastle.  Many of the children do not have access to outdoors as they live in flats with yards etc. The outdoor area in our setting is used all year round and in all weather's to give children the benefit of being outdoors.  We are currently trying to improve our environment and allow children to have hands on gardening experiences, allowing them that early hands on involvement in caring for the environment.  It would be amazing if we were successful not only for our present cohort but also for the future of our outdoors for all children . ?\n",
      "\n",
      "ENTITIES: [('We are a stand alone local authority nursery in a deprived and diverse area of newcastle.  ', 'CONTEXT')]\n",
      "------------------------------------------------------------\n",
      "TEXT: We are trying to develop our outside area.  It would be fantastic to have a gardening area where children can develop their knowledge of plants and grow their own food.\n",
      "\n",
      "ENTITIES: [('We are trying to', 'CONTEXT'), ('develop our outside area', 'BENEFIT'), ('develop their knowledge of plants and grow their own food.', 'BENEFIT')]\n",
      "------------------------------------------------------------\n"
     ]
    }
   ],
   "source": [
    "for text in test_texts:\n",
    "    doc = trained_nlp(text)\n",
    "    print(f\"TEXT: {text}\")\n",
    "    print()\n",
    "    print(\"ENTITIES:\", [(ent.text, ent.label_) for ent in doc.ents])\n",
    "    print('-'*60)\n",
    "    "
   ]
  },
  {
   "cell_type": "code",
   "execution_count": null,
   "id": "c16ce1f4-a92c-4c68-b7c1-6c3082f278a3",
   "metadata": {},
   "outputs": [],
   "source": []
  }
 ],
 "metadata": {
  "kernelspec": {
   "display_name": "Python 3 (ipykernel)",
   "language": "python",
   "name": "python3"
  },
  "language_info": {
   "codemirror_mode": {
    "name": "ipython",
    "version": 3
   },
   "file_extension": ".py",
   "mimetype": "text/x-python",
   "name": "python",
   "nbconvert_exporter": "python",
   "pygments_lexer": "ipython3",
   "version": "3.12.9"
  }
 },
 "nbformat": 4,
 "nbformat_minor": 5
}
